{
  "nbformat": 4,
  "nbformat_minor": 0,
  "metadata": {
    "colab": {
      "provenance": [],
      "authorship_tag": "ABX9TyNyhiEHLzcK9okuGoelbZLf",
      "include_colab_link": true
    },
    "kernelspec": {
      "name": "python3",
      "display_name": "Python 3"
    },
    "language_info": {
      "name": "python"
    }
  },
  "cells": [
    {
      "cell_type": "markdown",
      "metadata": {
        "id": "view-in-github",
        "colab_type": "text"
      },
      "source": [
        "<a href=\"https://colab.research.google.com/github/chandrasekhaar/chandrasekhaar/blob/main/Numpy_B5.ipynb\" target=\"_parent\"><img src=\"https://colab.research.google.com/assets/colab-badge.svg\" alt=\"Open In Colab\"/></a>"
      ]
    },
    {
      "cell_type": "code",
      "execution_count": null,
      "metadata": {
        "id": "K6wheohgT4H6"
      },
      "outputs": [],
      "source": [
        "#what is numpy?\n"
      ]
    },
    {
      "cell_type": "markdown",
      "source": [
        "#how many types of arrays are their?\n",
        "#1d\n",
        "#2d\n",
        "#3d"
      ],
      "metadata": {
        "id": "rM8NvMeXUeKB"
      }
    },
    {
      "cell_type": "code",
      "source": [
        "#scikit learn\n",
        "#matpltolib\n",
        "#pandas\n",
        "\n",
        "#what are different types of usecases and operations achieved easily by numpy\n",
        "   1. dot product/inner product\n",
        "   2. matrix multiplication\n",
        "   3) inverse\n",
        "   4) linear algebra\n",
        "   5) random number generation\n",
        "   6) statistics"
      ],
      "metadata": {
        "id": "5LuDVuUzUpTy"
      },
      "execution_count": null,
      "outputs": []
    },
    {
      "cell_type": "code",
      "source": [
        "#installation\n",
        "!pip install numpy"
      ],
      "metadata": {
        "colab": {
          "base_uri": "https://localhost:8080/"
        },
        "id": "a25hUKyrV_nY",
        "outputId": "f9a1192a-3d98-4742-ebda-4f6451403a03"
      },
      "execution_count": null,
      "outputs": [
        {
          "output_type": "stream",
          "name": "stdout",
          "text": [
            "Requirement already satisfied: numpy in /usr/local/lib/python3.10/dist-packages (1.25.2)\n"
          ]
        }
      ]
    },
    {
      "cell_type": "code",
      "source": [
        "import numpy as np\n",
        "np.__version__"
      ],
      "metadata": {
        "colab": {
          "base_uri": "https://localhost:8080/",
          "height": 35
        },
        "id": "Ax2O4xqVWU0w",
        "outputId": "59c02ea9-52cb-48a3-b0aa-ecf08a455589"
      },
      "execution_count": null,
      "outputs": [
        {
          "output_type": "execute_result",
          "data": {
            "text/plain": [
              "'1.25.2'"
            ],
            "application/vnd.google.colaboratory.intrinsic+json": {
              "type": "string"
            }
          },
          "metadata": {},
          "execution_count": 3
        }
      ]
    },
    {
      "cell_type": "code",
      "source": [
        "#difference b/w array&list?\n",
        "\"\"\"array:- array can take homogenous data types\n",
        "            array's faster than list\n",
        "            array,s having fixed memory\"\"\"\n"
      ],
      "metadata": {
        "id": "9AZjX2vjYmUq"
      },
      "execution_count": null,
      "outputs": []
    },
    {
      "cell_type": "markdown",
      "source": [
        "central object is array"
      ],
      "metadata": {
        "id": "InOkQ55caKKt"
      }
    },
    {
      "cell_type": "code",
      "source": [
        "from re import A\n",
        "a=np.array([1,2,3,4])\n",
        "print(a)\n",
        "#want to know shape of the array\n",
        "a.shape\n",
        "#want to know the datatype of the array\n",
        "a.dtype\n",
        "#want to know dimension of array\n",
        "a.ndim\n",
        "#want to know size/number of elements in array\n",
        "a.size\n",
        "#want to know size in bytes of each element\n",
        "A"
      ],
      "metadata": {
        "colab": {
          "base_uri": "https://localhost:8080/"
        },
        "id": "RbGyOLahaI8Z",
        "outputId": "ef4a1979-0cd8-4c48-d5c9-37b504d518ee"
      },
      "execution_count": null,
      "outputs": [
        {
          "output_type": "stream",
          "name": "stdout",
          "text": [
            "[1 2 3 4]\n"
          ]
        }
      ]
    },
    {
      "cell_type": "code",
      "source": [
        "import numpy as np\n",
        "b=np.array([1,2,3,4])\n",
        "print(b[0])\n",
        "b[0]=6\n",
        "print(b)\n",
        "#element wise math operations\n",
        "c=np.array([1,2,3,4])\n",
        "print(b+c)\n",
        "print(b*c)\n",
        "#arthematic operations\n",
        "#sum of elements in an array\n",
        "print(b.sum())\n",
        "#minimum value in array\n",
        "print(b.min())\n",
        "#maximum value in array\n",
        "print(b.max())\n"
      ],
      "metadata": {
        "colab": {
          "base_uri": "https://localhost:8080/"
        },
        "id": "ZPZ0uJzYlaTL",
        "outputId": "0403869b-6c4b-4ec8-aab0-fdc5c6290ebd"
      },
      "execution_count": null,
      "outputs": [
        {
          "output_type": "stream",
          "name": "stdout",
          "text": [
            "1\n",
            "[6 2 3 4]\n",
            "[7 4 6 8]\n",
            "[ 6  4  9 16]\n"
          ]
        }
      ]
    },
    {
      "cell_type": "markdown",
      "source": [
        "Array VS list\n"
      ],
      "metadata": {
        "id": "7nY2IB36pHjr"
      }
    },
    {
      "cell_type": "code",
      "source": [
        "l=[2,3,4]\n",
        "#create an array from list\n",
        "d=np.array(l)\n",
        "print(d)\n",
        "##  list we can add elements\n",
        "##  Array we cannot add elements\n",
        "#broad casting mehtod adding elements to the existing array?\n",
        "a1=d+np.array([5])\n",
        "print(a1)"
      ],
      "metadata": {
        "colab": {
          "base_uri": "https://localhost:8080/"
        },
        "id": "Up39URaypMyx",
        "outputId": "01b7dc7c-8ced-42bc-892c-2a97f038f4df"
      },
      "execution_count": null,
      "outputs": [
        {
          "output_type": "stream",
          "name": "stdout",
          "text": [
            "[2 3 4]\n",
            "[7 8 9]\n"
          ]
        }
      ]
    },
    {
      "cell_type": "code",
      "source": [
        "#vector addition:-adding 2 arrays with same size/number of elements\n",
        "'''v1=np.array([1,2,3])\n",
        "v2=np.array([4,5,6])\n",
        "print(v1+v2)'''"
      ],
      "metadata": {
        "colab": {
          "base_uri": "https://localhost:8080/"
        },
        "id": "NQ4aHGfDspZ6",
        "outputId": "109a14a7-5472-4060-e5f2-bf8f3ba8f142"
      },
      "execution_count": null,
      "outputs": [
        {
          "output_type": "stream",
          "name": "stdout",
          "text": [
            "[5 7 9]\n"
          ]
        }
      ]
    },
    {
      "cell_type": "markdown",
      "source": [],
      "metadata": {
        "id": "rq177Bw1vFcp"
      }
    },
    {
      "cell_type": "code",
      "source": [
        "l=[2,3,4]\n",
        "l1=[5,6,7]\n",
        "print(l+l1)"
      ],
      "metadata": {
        "colab": {
          "base_uri": "https://localhost:8080/"
        },
        "id": "sOvoQkvAvsGP",
        "outputId": "56270071-1908-44b7-f33a-a537d5db2b65"
      },
      "execution_count": null,
      "outputs": [
        {
          "output_type": "stream",
          "name": "stdout",
          "text": [
            "[2, 3, 4, 5, 6, 7]\n"
          ]
        }
      ]
    },
    {
      "cell_type": "code",
      "source": [
        "#array multiplication\n",
        "a=np.array([1,2,3,4])\n",
        "a4=a*3\n",
        "print(a4)\n",
        "#find sqrt of numpy aray?\n",
        "print(np.sqrt(a))"
      ],
      "metadata": {
        "colab": {
          "base_uri": "https://localhost:8080/"
        },
        "id": "9rWwtL93xESW",
        "outputId": "193ad62e-3989-4ed4-f844-55cc425c95c2"
      },
      "execution_count": null,
      "outputs": [
        {
          "output_type": "stream",
          "name": "stdout",
          "text": [
            "[ 3  6  9 12]\n",
            "[1.         1.41421356 1.73205081 2.        ]\n"
          ]
        }
      ]
    },
    {
      "cell_type": "markdown",
      "source": [
        "Dot products"
      ],
      "metadata": {
        "id": "3UrRikOGqjX1"
      }
    },
    {
      "cell_type": "code",
      "source": [
        "import numpy as np\n",
        "a=np.array([1,2])\n",
        "b=np.array([5,6])\n",
        "#sum of the product of corresponding entries\n",
        "print(np.dot(a,b))\n",
        "#multiply each corresponding element and sum\n",
        "dot=0\n",
        "for i in range(len(a)):\n",
        "  dot+=a[i]*b[i]#dot=dot+([a[i]*b[i]])\n",
        "  print(dot)"
      ],
      "metadata": {
        "colab": {
          "base_uri": "https://localhost:8080/"
        },
        "id": "CVwk593Cj764",
        "outputId": "e09d16fe-8478-44c0-c540-6aaf18a36415"
      },
      "execution_count": null,
      "outputs": [
        {
          "output_type": "stream",
          "name": "stdout",
          "text": [
            "17\n",
            "5\n",
            "17\n"
          ]
        }
      ]
    },
    {
      "cell_type": "code",
      "source": [
        "#easy with numpy\n",
        "dot=np.dot(a,b)\n",
        "print(dot)"
      ],
      "metadata": {
        "colab": {
          "base_uri": "https://localhost:8080/"
        },
        "id": "MiUAgVFktkn7",
        "outputId": "ea13526f-dc73-47cc-d262-0e7cd213a291"
      },
      "execution_count": null,
      "outputs": [
        {
          "output_type": "stream",
          "name": "stdout",
          "text": [
            "17\n"
          ]
        }
      ]
    },
    {
      "cell_type": "code",
      "source": [
        "#manual method\n",
        "c=a*b\n",
        "print(c)\n",
        "d=np.sum(c)\n",
        "print(d)\n"
      ],
      "metadata": {
        "colab": {
          "base_uri": "https://localhost:8080/"
        },
        "id": "OuipRCpFt5aU",
        "outputId": "2e293ddb-48b8-4e76-965b-b87ab1a8d779"
      },
      "execution_count": null,
      "outputs": [
        {
          "output_type": "stream",
          "name": "stdout",
          "text": [
            "[ 5 12]\n",
            "17\n"
          ]
        }
      ]
    },
    {
      "cell_type": "code",
      "source": [
        "## what is dot means?\n",
        "#multiply the corresponding elements after that we are doing additon.\n",
        "dot=a.dot(b)\n",
        "print(dot)"
      ],
      "metadata": {
        "colab": {
          "base_uri": "https://localhost:8080/"
        },
        "id": "K_O5SRuXuntl",
        "outputId": "42f60969-b9ad-4382-ec93-a5c4f80152e5"
      },
      "execution_count": null,
      "outputs": [
        {
          "output_type": "stream",
          "name": "stdout",
          "text": [
            "17\n"
          ]
        }
      ]
    },
    {
      "cell_type": "code",
      "source": [
        "#new version of dot product\n",
        "dot=a@b\n",
        "print(dot)"
      ],
      "metadata": {
        "colab": {
          "base_uri": "https://localhost:8080/"
        },
        "id": "DAz9dqSCvYDk",
        "outputId": "18c97bcb-688b-4f34-ba0a-7a739de89bb6"
      },
      "execution_count": null,
      "outputs": [
        {
          "output_type": "stream",
          "name": "stdout",
          "text": [
            "17\n"
          ]
        }
      ]
    },
    {
      "cell_type": "markdown",
      "source": [],
      "metadata": {
        "id": "GnHO3E2Zv5q5"
      }
    },
    {
      "cell_type": "markdown",
      "source": [
        "speed test array VS List.\n"
      ],
      "metadata": {
        "id": "IAgKeVikvzW-"
      }
    },
    {
      "cell_type": "code",
      "source": [
        "#import time calcaulatornto see the variations\n",
        "from timeit import default_timer as timer\n",
        "\n",
        "#create random array\n",
        "a= np.random.randn(1000)\n",
        "b= np.random.randn(1000)\n",
        "#convert these array into list with different variabbles\n",
        "c=list(a)\n",
        "d=list(b)\n",
        "t=1000\n",
        "def dot1():\n",
        "  dot=0\n",
        "  for i in range(len(a)):\n",
        "    dot+=a[i]*b[i]\n",
        "    return dot\n",
        "def dot2():\n",
        "  return np.dot(a,b)\n",
        "  #take the timer\n",
        "  start=timer()\n",
        "for i in range(t):\n",
        "    dot1()\n",
        "end = timer()\n",
        "t1=end-start\n",
        "start=timer()\n",
        "for i in range(t):\n",
        "    dot2()\n",
        "end = timer()\n",
        "t2= end-start\n",
        "print('time with list:',t1)\n",
        "print('time with lists:',t2)\n",
        "print('ratio',t1/t2)\n",
        "\n",
        "\n"
      ],
      "metadata": {
        "colab": {
          "base_uri": "https://localhost:8080/",
          "height": 211
        },
        "id": "NMLTLQ7Hvy82",
        "outputId": "a4bb9be8-c069-47eb-beeb-c8199a40ca91"
      },
      "execution_count": 5,
      "outputs": [
        {
          "output_type": "error",
          "ename": "NameError",
          "evalue": "name 'np' is not defined",
          "traceback": [
            "\u001b[0;31m---------------------------------------------------------------------------\u001b[0m",
            "\u001b[0;31mNameError\u001b[0m                                 Traceback (most recent call last)",
            "\u001b[0;32m<ipython-input-5-cf9158811b46>\u001b[0m in \u001b[0;36m<cell line: 5>\u001b[0;34m()\u001b[0m\n\u001b[1;32m      3\u001b[0m \u001b[0;34m\u001b[0m\u001b[0m\n\u001b[1;32m      4\u001b[0m \u001b[0;31m#create random array\u001b[0m\u001b[0;34m\u001b[0m\u001b[0;34m\u001b[0m\u001b[0m\n\u001b[0;32m----> 5\u001b[0;31m \u001b[0ma\u001b[0m\u001b[0;34m=\u001b[0m \u001b[0mnp\u001b[0m\u001b[0;34m.\u001b[0m\u001b[0mrandom\u001b[0m\u001b[0;34m.\u001b[0m\u001b[0mrandn\u001b[0m\u001b[0;34m(\u001b[0m\u001b[0;36m1000\u001b[0m\u001b[0;34m)\u001b[0m\u001b[0;34m\u001b[0m\u001b[0;34m\u001b[0m\u001b[0m\n\u001b[0m\u001b[1;32m      6\u001b[0m \u001b[0mb\u001b[0m\u001b[0;34m=\u001b[0m \u001b[0mnp\u001b[0m\u001b[0;34m.\u001b[0m\u001b[0mrandom\u001b[0m\u001b[0;34m.\u001b[0m\u001b[0mrandn\u001b[0m\u001b[0;34m(\u001b[0m\u001b[0;36m1000\u001b[0m\u001b[0;34m)\u001b[0m\u001b[0;34m\u001b[0m\u001b[0;34m\u001b[0m\u001b[0m\n\u001b[1;32m      7\u001b[0m \u001b[0;31m#convert these array into list with different variabbles\u001b[0m\u001b[0;34m\u001b[0m\u001b[0;34m\u001b[0m\u001b[0m\n",
            "\u001b[0;31mNameError\u001b[0m: name 'np' is not defined"
          ]
        }
      ]
    },
    {
      "cell_type": "markdown",
      "source": [
        "dimensional"
      ],
      "metadata": {
        "id": "WSPAhfiDImEB"
      }
    },
    {
      "cell_type": "markdown",
      "source": [],
      "metadata": {
        "id": "cUBuXsReEt3r"
      }
    },
    {
      "cell_type": "code",
      "source": [
        "import numpy as np\n",
        "a= np.array([[1,2,3],[4,5,6]])\n",
        "print(a)\n",
        "print(a.shape)"
      ],
      "metadata": {
        "colab": {
          "base_uri": "https://localhost:8080/"
        },
        "id": "Ad9lpKPKGaUp",
        "outputId": "28048275-1145-491d-826f-4ecdba8c8d3d"
      },
      "execution_count": 6,
      "outputs": [
        {
          "output_type": "stream",
          "name": "stdout",
          "text": [
            "[[1 2 3]\n",
            " [4 5 6]]\n",
            "(2, 3)\n"
          ]
        }
      ]
    },
    {
      "cell_type": "code",
      "source": [
        "print(a[0])\n",
        "#if u want to access particular value from particualar column amd row?\n",
        "print(a[0,2])\n",
        "#access from \"5\" from the above array?\n",
        "print(a[1,1])\n",
        "print(a[1][1])"
      ],
      "metadata": {
        "colab": {
          "base_uri": "https://localhost:8080/"
        },
        "id": "XhwPfsIXJMPv",
        "outputId": "70cbde38-f0bf-4cff-f4e6-474ee4bc613c"
      },
      "execution_count": 11,
      "outputs": [
        {
          "output_type": "stream",
          "name": "stdout",
          "text": [
            "[1 2 3]\n",
            "3\n",
            "5\n",
            "5\n"
          ]
        }
      ]
    },
    {
      "cell_type": "markdown",
      "source": [
        "slicing"
      ],
      "metadata": {
        "id": "mDhfql20KnL4"
      }
    },
    {
      "cell_type": "code",
      "source": [
        "print(a[:,0]) # to know all valuse in 1st column\n",
        "print(a[0,:]) # to know all values in 1st row"
      ],
      "metadata": {
        "colab": {
          "base_uri": "https://localhost:8080/"
        },
        "id": "cz3KoMBSKpc0",
        "outputId": "556a25e1-23dc-480e-fa55-1caca4ade4ec"
      },
      "execution_count": 12,
      "outputs": [
        {
          "output_type": "stream",
          "name": "stdout",
          "text": [
            "[1 4]\n",
            "[1 2 3]\n"
          ]
        }
      ]
    },
    {
      "cell_type": "code",
      "source": [
        "#print(a)\n",
        "print(a.shape)\n",
        "#transpose rows into column & column into rows\n",
        "#print(a.T)\n",
        "k=a.T\n",
        "print(k)\n",
        "print(k.shape)"
      ],
      "metadata": {
        "colab": {
          "base_uri": "https://localhost:8080/"
        },
        "id": "V61POvsgLl-P",
        "outputId": "26450cbc-8fb8-4786-a24d-c1953a506cf7"
      },
      "execution_count": 15,
      "outputs": [
        {
          "output_type": "stream",
          "name": "stdout",
          "text": [
            "(2, 3)\n",
            "[[1 4]\n",
            " [2 5]\n",
            " [3 6]]\n",
            "(3, 2)\n"
          ]
        }
      ]
    },
    {
      "cell_type": "markdown",
      "source": [
        "#matrix multiplication"
      ],
      "metadata": {
        "id": "h17_Wrg0MnzO"
      }
    },
    {
      "cell_type": "code",
      "source": [
        "a =np.array([[1,2],[3,4]])\n",
        "b=np.array([[1,2],[2,3]])\n",
        "k=a.dot(b)\n",
        "print(k)\n",
        "#element wise multiplication\n",
        "#print(a*b)"
      ],
      "metadata": {
        "colab": {
          "base_uri": "https://localhost:8080/"
        },
        "id": "4W1ur8R0MtkX",
        "outputId": "6174d865-a4ba-4bc5-8911-9dadd58466bc"
      },
      "execution_count": 20,
      "outputs": [
        {
          "output_type": "stream",
          "name": "stdout",
          "text": [
            "[[ 5  8]\n",
            " [11 18]]\n"
          ]
        }
      ]
    },
    {
      "cell_type": "code",
      "source": [
        "e=np.array([[1,2,3],[4,5,6]])\n",
        "print(e)"
      ],
      "metadata": {
        "colab": {
          "base_uri": "https://localhost:8080/"
        },
        "id": "4WSVMC3pPVHq",
        "outputId": "7e51cac0-d51d-4058-f22c-2722c68661c5"
      },
      "execution_count": 21,
      "outputs": [
        {
          "output_type": "stream",
          "name": "stdout",
          "text": [
            "[[1 2 3]\n",
            " [4 5 6]]\n"
          ]
        }
      ]
    },
    {
      "cell_type": "code",
      "source": [
        "#detrerminent:- [(1x4)-(2x3)] we need cross multiplication\n",
        "a=np.array([[1,2],[3,4]])\n",
        "c=np.linalg.det(a)\n",
        "print(c)\n"
      ],
      "metadata": {
        "colab": {
          "base_uri": "https://localhost:8080/"
        },
        "id": "9tpEXqPwP-zG",
        "outputId": "c553a1ed-e32c-4292-ec5f-efe7a05bf3af"
      },
      "execution_count": 22,
      "outputs": [
        {
          "output_type": "stream",
          "name": "stdout",
          "text": [
            "-2.0000000000000004\n"
          ]
        }
      ]
    },
    {
      "cell_type": "markdown",
      "source": [],
      "metadata": {
        "id": "vng2oobXMngi"
      }
    },
    {
      "cell_type": "code",
      "source": [
        "#inverse:-\n",
        "a=np.array([[1,2],[3,4]])\n",
        "d=np.linalg.inv(a)\n",
        "print(d)"
      ],
      "metadata": {
        "colab": {
          "base_uri": "https://localhost:8080/"
        },
        "id": "KaAH7vp9R9pr",
        "outputId": "9c11e93e-11f1-4cda-eb7f-bbaf772df7c4"
      },
      "execution_count": 23,
      "outputs": [
        {
          "output_type": "stream",
          "name": "stdout",
          "text": [
            "[[-2.   1. ]\n",
            " [ 1.5 -0.5]]\n"
          ]
        }
      ]
    },
    {
      "cell_type": "code",
      "source": [
        "#diagonal\n",
        "c =np.diag(a)\n",
        "print(c)\n"
      ],
      "metadata": {
        "colab": {
          "base_uri": "https://localhost:8080/"
        },
        "id": "mIkoP9HPSUVr",
        "outputId": "e71d8235-0c11-4386-d93c-8a01a489fe13"
      },
      "execution_count": 26,
      "outputs": [
        {
          "output_type": "stream",
          "name": "stdout",
          "text": [
            "[1 4]\n"
          ]
        }
      ]
    },
    {
      "cell_type": "code",
      "source": [
        "#diagonal an a vector returns diagonal matrix\n",
        "c=np.diag([1,4])\n",
        "print(c)"
      ],
      "metadata": {
        "colab": {
          "base_uri": "https://localhost:8080/"
        },
        "id": "VzUe0Rj_WJCZ",
        "outputId": "74942ccf-3264-44f2-94e4-b5be51c5aa5e"
      },
      "execution_count": 27,
      "outputs": [
        {
          "output_type": "stream",
          "name": "stdout",
          "text": [
            "[[1 0]\n",
            " [0 4]]\n"
          ]
        }
      ]
    }
  ]
}