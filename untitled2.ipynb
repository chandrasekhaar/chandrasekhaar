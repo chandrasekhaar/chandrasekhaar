{
  "nbformat": 4,
  "nbformat_minor": 0,
  "metadata": {
    "colab": {
      "provenance": [],
      "authorship_tag": "ABX9TyNkiCCDSYiHfiNbf4idfgv5",
      "include_colab_link": true
    },
    "kernelspec": {
      "name": "python3",
      "display_name": "Python 3"
    },
    "language_info": {
      "name": "python"
    }
  },
  "cells": [
    {
      "cell_type": "markdown",
      "metadata": {
        "id": "view-in-github",
        "colab_type": "text"
      },
      "source": [
        "<a href=\"https://colab.research.google.com/github/chandrasekhaar/chandrasekhaar/blob/main/untitled2.ipynb\" target=\"_parent\"><img src=\"https://colab.research.google.com/assets/colab-badge.svg\" alt=\"Open In Colab\"/></a>"
      ]
    },
    {
      "cell_type": "code",
      "execution_count": null,
      "metadata": {
        "colab": {
          "base_uri": "https://localhost:8080/"
        },
        "id": "AG38hhx3sooo",
        "outputId": "bc86bf8f-e593-44c1-9f21-aa1ff9d934c0"
      },
      "outputs": [
        {
          "output_type": "stream",
          "name": "stdout",
          "text": [
            "Requirement already satisfied: numpy in /usr/local/lib/python3.10/dist-packages (1.26.4)\n"
          ]
        }
      ],
      "source": [
        "!pip install numpy"
      ]
    },
    {
      "cell_type": "code",
      "source": [
        "import numpy as np\n",
        "np.__version__"
      ],
      "metadata": {
        "colab": {
          "base_uri": "https://localhost:8080/",
          "height": 35
        },
        "id": "wxU1JrR7s0zy",
        "outputId": "3d1dc111-8fb4-4c34-85f4-7fe84686810b"
      },
      "execution_count": null,
      "outputs": [
        {
          "output_type": "execute_result",
          "data": {
            "text/plain": [
              "'1.26.4'"
            ],
            "application/vnd.google.colaboratory.intrinsic+json": {
              "type": "string"
            }
          },
          "metadata": {},
          "execution_count": 3
        }
      ]
    },
    {
      "cell_type": "code",
      "source": [
        "#arrays are heterogenous data\n",
        " #arrays are faster than list due fixed memory"
      ],
      "metadata": {
        "id": "j1p9lEjttMY3"
      },
      "execution_count": null,
      "outputs": []
    },
    {
      "cell_type": "code",
      "source": [],
      "metadata": {
        "id": "awstiONvf200"
      },
      "execution_count": null,
      "outputs": []
    },
    {
      "cell_type": "code",
      "source": [
        "import numpy as np\n",
        "a=np.array([1,2,3,4,5,])\n",
        "print(a)\n",
        "a.shape\n",
        "a.dtype\n",
        "a.ndim\n",
        "a.size\n",
        "a.nbytes"
      ],
      "metadata": {
        "colab": {
          "base_uri": "https://localhost:8080/"
        },
        "id": "5Z8-CgBKuiAX",
        "outputId": "ef0f140a-c3ec-471d-f478-5b0dbcf935b4"
      },
      "execution_count": null,
      "outputs": [
        {
          "output_type": "stream",
          "name": "stdout",
          "text": [
            "[1 2 3 4 5]\n"
          ]
        },
        {
          "output_type": "execute_result",
          "data": {
            "text/plain": [
              "40"
            ]
          },
          "metadata": {},
          "execution_count": 5
        }
      ]
    },
    {
      "cell_type": "code",
      "source": [
        "c= np.array([9,8,7,6,5,4,])\n",
        "print(c)\n",
        "print(c[1])\n",
        "c[2]=1\n",
        "print(c)\n",
        "d=np.array([1,2,3,4,5,6])\n",
        "print([c+d])\n",
        "print([c*d])\n",
        "print(c.sum())\n",
        "print(d.sum())\n",
        "print(c.min())\n"
      ],
      "metadata": {
        "colab": {
          "base_uri": "https://localhost:8080/"
        },
        "id": "sQ7rX18CgRUC",
        "outputId": "c2957bf5-dc12-4641-f6f4-b102ee2d02c8"
      },
      "execution_count": null,
      "outputs": [
        {
          "output_type": "stream",
          "name": "stdout",
          "text": [
            "[9 8 7 6 5 4]\n",
            "8\n",
            "[9 8 1 6 5 4]\n",
            "[array([10, 10,  4, 10, 10, 10])]\n",
            "[array([ 9, 16,  3, 24, 25, 24])]\n",
            "33\n",
            "21\n",
            "1\n"
          ]
        }
      ]
    },
    {
      "cell_type": "code",
      "source": [
        "l=[1,2,3,4]\n",
        "k=np.array(l)\n",
        "print(k)\n",
        "print(type(k))"
      ],
      "metadata": {
        "colab": {
          "base_uri": "https://localhost:8080/"
        },
        "id": "FZaa19y3kFe_",
        "outputId": "052abe85-541d-4f98-ef75-ab855f4d6b23"
      },
      "execution_count": null,
      "outputs": [
        {
          "output_type": "stream",
          "name": "stdout",
          "text": [
            "[1 2 3 4]\n",
            "<class 'numpy.ndarray'>\n"
          ]
        }
      ]
    },
    {
      "cell_type": "code",
      "source": [
        "t1=np.array([3,4,5,6,])\n",
        "t2=np.array([6,7,8,9,])\n",
        "print(t1+t2)\n",
        "k=t1*2\n",
        "print(k)\n",
        "print(np.sqrt(k))\n",
        "print(np.dot(t1,t2))"
      ],
      "metadata": {
        "colab": {
          "base_uri": "https://localhost:8080/"
        },
        "id": "Mx_D1Hn8sZWv",
        "outputId": "eed30420-c1fa-43b2-f491-f57be7a74051"
      },
      "execution_count": null,
      "outputs": [
        {
          "output_type": "stream",
          "name": "stdout",
          "text": [
            "[ 9 11 13 15]\n",
            "[ 6  8 10 12]\n",
            "[2.44948974 2.82842712 3.16227766 3.46410162]\n",
            "140\n"
          ]
        }
      ]
    },
    {
      "cell_type": "code",
      "source": [
        "dot=t1@t2\n",
        "print(dot)"
      ],
      "metadata": {
        "colab": {
          "base_uri": "https://localhost:8080/"
        },
        "id": "ReqwBfaHwNPo",
        "outputId": "01f69eed-2737-4fe1-98e0-9258061cfa88"
      },
      "execution_count": null,
      "outputs": [
        {
          "output_type": "stream",
          "name": "stdout",
          "text": [
            "140\n"
          ]
        }
      ]
    },
    {
      "cell_type": "code",
      "source": [
        "import numpy as np\n",
        "a=np.array([[1,2,3],[4,5,6]])\n",
        "print(a)\n",
        "print(a.shape)\n",
        "print(a.ndim)\n",
        "print(a.size)"
      ],
      "metadata": {
        "colab": {
          "base_uri": "https://localhost:8080/"
        },
        "id": "f2qdjLIq6R7K",
        "outputId": "20fba2bd-98b6-426c-879b-122cefbd1c04"
      },
      "execution_count": null,
      "outputs": [
        {
          "output_type": "stream",
          "name": "stdout",
          "text": [
            "[[1 2 3]\n",
            " [4 5 6]]\n",
            "(2, 3)\n",
            "2\n",
            "6\n"
          ]
        }
      ]
    },
    {
      "cell_type": "code",
      "source": [
        "import numpy as np\n",
        "a=np.array([[1,2,3],[4,5,6]])\n",
        "print(a)\n",
        "print(a[0,1])\n",
        "print(a[1,1])\n",
        "k=np.diag(a)\n",
        "print(k)"
      ],
      "metadata": {
        "colab": {
          "base_uri": "https://localhost:8080/"
        },
        "id": "V3R8C5EuuWNI",
        "outputId": "b1af0fff-9138-4a5c-8035-abc748109d7c"
      },
      "execution_count": null,
      "outputs": [
        {
          "output_type": "stream",
          "name": "stdout",
          "text": [
            "[[1 2 3]\n",
            " [4 5 6]]\n",
            "2\n",
            "5\n",
            "[1 5]\n"
          ]
        }
      ]
    },
    {
      "cell_type": "code",
      "source": [
        "#know 1st  columns\n",
        "print(a[:,0])\n",
        "print(a[0,:])\n",
        "print(a[:,1])\n",
        "print(a.shape)"
      ],
      "metadata": {
        "colab": {
          "base_uri": "https://localhost:8080/"
        },
        "id": "wswwZwocwj3a",
        "outputId": "ee8c5de3-f405-45c9-bdf1-74c596ff70b2"
      },
      "execution_count": null,
      "outputs": [
        {
          "output_type": "stream",
          "name": "stdout",
          "text": [
            "[1 4]\n",
            "[1 2 3]\n",
            "[2 5]\n",
            "(2, 3)\n"
          ]
        }
      ]
    },
    {
      "cell_type": "code",
      "source": [
        "p=np.array ([[1,2],[3,4]])\n",
        "q=np.array([[1,2],[3,4]])\n",
        "c=p.dot(q)\n",
        "print(c)"
      ],
      "metadata": {
        "colab": {
          "base_uri": "https://localhost:8080/"
        },
        "id": "cnFfczMH0nQS",
        "outputId": "7deef5b0-4c9e-48c3-cca2-dd234ed4b05e"
      },
      "execution_count": null,
      "outputs": [
        {
          "output_type": "stream",
          "name": "stdout",
          "text": [
            "[[ 7 10]\n",
            " [15 22]]\n"
          ]
        }
      ]
    },
    {
      "cell_type": "code",
      "source": [
        "c=np.linalg.inv(p)\n",
        "print(c)"
      ],
      "metadata": {
        "colab": {
          "base_uri": "https://localhost:8080/"
        },
        "id": "b0q_WeAC4o8j",
        "outputId": "de6b7a7d-4592-4613-9024-e56a4975f14d"
      },
      "execution_count": null,
      "outputs": [
        {
          "output_type": "stream",
          "name": "stdout",
          "text": [
            "[[-2.   1. ]\n",
            " [ 1.5 -0.5]]\n"
          ]
        }
      ]
    },
    {
      "cell_type": "code",
      "source": [
        "#diagnol of matrix\n",
        "m=np.diag(c)\n",
        "print(c)"
      ],
      "metadata": {
        "colab": {
          "base_uri": "https://localhost:8080/"
        },
        "id": "B21cUIcC5SVI",
        "outputId": "014783aa-6d6f-4423-8b42-b55240e46d74"
      },
      "execution_count": null,
      "outputs": [
        {
          "output_type": "stream",
          "name": "stdout",
          "text": [
            "[[-2.   1. ]\n",
            " [ 1.5 -0.5]]\n"
          ]
        }
      ]
    },
    {
      "cell_type": "code",
      "source": [
        "import numpy as np\n",
        "array1=np.array([100,200,300,400,500,600,700])\n",
        "print(array1[1:5:2])"
      ],
      "metadata": {
        "colab": {
          "base_uri": "https://localhost:8080/"
        },
        "id": "bEwhpIDIM-Ep",
        "outputId": "d99c1205-4115-4d56-f12b-3f6f1845a820"
      },
      "execution_count": null,
      "outputs": [
        {
          "output_type": "stream",
          "name": "stdout",
          "text": [
            "[200 400]\n"
          ]
        }
      ]
    },
    {
      "cell_type": "code",
      "source": [
        "d = {0: 'a', 1: 'b', 2: 'c'}\n",
        "for i in d:\n",
        " print(i)\n"
      ],
      "metadata": {
        "colab": {
          "base_uri": "https://localhost:8080/"
        },
        "id": "PKsg_WXONiYH",
        "outputId": "74e1f88c-fd69-427a-a6b9-d3b9207328b0"
      },
      "execution_count": null,
      "outputs": [
        {
          "output_type": "stream",
          "name": "stdout",
          "text": [
            "0\n",
            "1\n",
            "2\n"
          ]
        }
      ]
    },
    {
      "cell_type": "code",
      "source": [
        "x = 'pqrs'\n",
        "for i in range(len(x)):\n",
        "      x[i].upper()\n",
        "print(x)\n"
      ],
      "metadata": {
        "colab": {
          "base_uri": "https://localhost:8080/"
        },
        "id": "UhqwrPbBN00y",
        "outputId": "8b56e068-a1e8-44cf-c9b3-f775f1529dc9"
      },
      "execution_count": null,
      "outputs": [
        {
          "output_type": "stream",
          "name": "stdout",
          "text": [
            "pqrs\n"
          ]
        }
      ]
    }
  ]
}