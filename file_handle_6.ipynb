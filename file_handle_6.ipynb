{
  "nbformat": 4,
  "nbformat_minor": 0,
  "metadata": {
    "colab": {
      "provenance": [],
      "authorship_tag": "ABX9TyNi8JyyRSvDqfydNounhYNd",
      "include_colab_link": true
    },
    "kernelspec": {
      "name": "python3",
      "display_name": "Python 3"
    },
    "language_info": {
      "name": "python"
    }
  },
  "cells": [
    {
      "cell_type": "markdown",
      "metadata": {
        "id": "view-in-github",
        "colab_type": "text"
      },
      "source": [
        "<a href=\"https://colab.research.google.com/github/chandrasekhaar/chandrasekhaar/blob/main/file_handle_6.ipynb\" target=\"_parent\"><img src=\"https://colab.research.google.com/assets/colab-badge.svg\" alt=\"Open In Colab\"/></a>"
      ]
    },
    {
      "cell_type": "code",
      "execution_count": null,
      "metadata": {
        "id": "BOZ6DSbBLKBL"
      },
      "outputs": [],
      "source": []
    },
    {
      "cell_type": "markdown",
      "source": [
        "#File handling\n"
      ],
      "metadata": {
        "id": "rqXC3SQKLNrO"
      }
    },
    {
      "cell_type": "markdown",
      "source": [],
      "metadata": {
        "id": "vvFh8hM8LPlF"
      }
    },
    {
      "cell_type": "code",
      "source": [
        "#to handle the files in python we require a package which is known as \"open()\"\n",
        "#modes:- r,a,w,x"
      ],
      "metadata": {
        "id": "NXcQHnQmLXfu"
      },
      "execution_count": null,
      "outputs": []
    },
    {
      "cell_type": "code",
      "source": [
        "#mode:-\"x\" mode is used to create a new file\n",
        "f=open(\"test.txt\",\"x\")\n",
        "#what happen when you create a file if already exist then?\n"
      ],
      "metadata": {
        "id": "qotAPVLoMIR1"
      },
      "execution_count": 1,
      "outputs": []
    },
    {
      "cell_type": "code",
      "source": [
        "#mode:- \"w\"-->> overwrite\n",
        "f=open(\"test.txt\",\"w\")\n",
        "f.write(\"this is my text file for testing\")\n",
        "f.close()"
      ],
      "metadata": {
        "id": "ucNzZ8g5Nmq8"
      },
      "execution_count": null,
      "outputs": []
    },
    {
      "cell_type": "code",
      "source": [
        "#mode:- \"r\"-->read mode {default mode is read}\n",
        "f=open(\"test.txt\",\"r\")\n",
        "print(f.read())\n",
        "f.close()"
      ],
      "metadata": {
        "id": "JO0MmXHXOZ-i"
      },
      "execution_count": null,
      "outputs": []
    },
    {
      "cell_type": "code",
      "source": [
        "f=open(\"test.txt\",\"w\")\n",
        "f.write(\"\"\"if another message writes \"\"\")\n",
        "f.close()"
      ],
      "metadata": {
        "id": "jP8JXPFgQ07a"
      },
      "execution_count": null,
      "outputs": []
    },
    {
      "cell_type": "code",
      "source": [
        "#mode: a->>append > adding the the data at the the end of the data\n",
        "f=open(\"test.txt\",\"a\")\n",
        "f.write(\"i am appending the data\")\n",
        "f.close()"
      ],
      "metadata": {
        "id": "I9jdWfO9PtJX"
      },
      "execution_count": null,
      "outputs": []
    },
    {
      "cell_type": "code",
      "source": [
        "#create a file \"name.txt\" then use append mode to add content in to file?\n",
        "a=open(\"name.txt\",\"a\")\n",
        "a.write(\"this is my name file\")\n",
        "a.close()"
      ],
      "metadata": {
        "id": "XAuVaF3ISGiY"
      },
      "execution_count": 2,
      "outputs": []
    },
    {
      "cell_type": "markdown",
      "source": [
        "Reading the xcel file."
      ],
      "metadata": {
        "id": "w8Tgq0khTCvs"
      }
    },
    {
      "cell_type": "code",
      "source": [
        "!pip install xlrd\n"
      ],
      "metadata": {
        "id": "dY1uRObUTLeK"
      },
      "execution_count": null,
      "outputs": []
    },
    {
      "cell_type": "markdown",
      "source": [
        "iterators"
      ],
      "metadata": {
        "id": "IRPWeyXkbRkN"
      }
    },
    {
      "cell_type": "code",
      "source": [
        "#what will the iterators do/\n",
        "# it will take infinite data and breaks into tiny chhunks.\n",
        "fruits=['mango','kiwi','banana']\n",
        "for x in fruits:\n",
        "  print(x)\n"
      ],
      "metadata": {
        "colab": {
          "base_uri": "https://localhost:8080/"
        },
        "id": "DDt1_betbP1K",
        "outputId": "36867aa4-164f-469b-cee3-17f057e37392"
      },
      "execution_count": 3,
      "outputs": [
        {
          "output_type": "stream",
          "name": "stdout",
          "text": [
            "mango\n",
            "kiwi\n",
            "banana\n"
          ]
        }
      ]
    },
    {
      "cell_type": "markdown",
      "source": [
        "pip"
      ],
      "metadata": {
        "id": "B4HgLO4yhB19"
      }
    },
    {
      "cell_type": "code",
      "source": [
        "#pip is a package manager fjor python.\n",
        "#package:- is contains all files you needed"
      ],
      "metadata": {
        "id": "0bd0fVZZhA_M"
      },
      "execution_count": null,
      "outputs": []
    },
    {
      "cell_type": "markdown",
      "source": [
        "pickiling"
      ],
      "metadata": {
        "id": "eE2IGwIZi5Yw"
      }
    },
    {
      "cell_type": "code",
      "source": [
        "#serialisation\n",
        "#deserialisation\n",
        "#"
      ],
      "metadata": {
        "id": "3RJ5EVnoiyUX"
      },
      "execution_count": null,
      "outputs": []
    }
  ]
}