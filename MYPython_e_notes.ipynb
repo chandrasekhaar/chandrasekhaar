{
  "nbformat": 4,
  "nbformat_minor": 0,
  "metadata": {
    "colab": {
      "provenance": [],
      "include_colab_link": true
    },
    "kernelspec": {
      "name": "python3",
      "display_name": "Python 3"
    },
    "language_info": {
      "name": "python"
    }
  },
  "cells": [
    {
      "cell_type": "markdown",
      "metadata": {
        "id": "view-in-github",
        "colab_type": "text"
      },
      "source": [
        "<a href=\"https://colab.research.google.com/github/chandrasekhaar/chandrasekhaar/blob/main/MYPython_e_notes.ipynb\" target=\"_parent\"><img src=\"https://colab.research.google.com/assets/colab-badge.svg\" alt=\"Open In Colab\"/></a>"
      ]
    },
    {
      "cell_type": "code",
      "execution_count": null,
      "metadata": {
        "id": "HxsY4eeLBe6p"
      },
      "outputs": [],
      "source": [
        "#-->single line commenting\n",
        "#1. What is Python?\n",
        "'''A. High-level Programming Language\n",
        "B. General purpose\n",
        "c. Object oriented programmin language\n",
        "D. Interpreted language\n",
        "e. dynamically typed'''"
      ]
    },
    {
      "cell_type": "code",
      "source": [
        "#why we require comminting?\n",
        "#better understanding of the code"
      ],
      "metadata": {
        "id": "D913X5PmCcNI"
      },
      "execution_count": null,
      "outputs": []
    },
    {
      "cell_type": "code",
      "source": [
        "#what is an IDE?\n",
        "#integreted development environment-->code executer, compiler, write our code and display our code\n",
        "# google colbnote book, jupyter notebook, pycharm...etc"
      ],
      "metadata": {
        "id": "B9sJIfkAPfPw"
      },
      "execution_count": null,
      "outputs": []
    },
    {
      "cell_type": "code",
      "source": [
        "#Numerical data types\n",
        "#3 types of numerical data types\n",
        "#1. integer:- A whole number without decimal points\n",
        "#print():-to display our ouput\n",
        "print(10)\n",
        "#how can you find the data type?\n",
        "#type():- used for to know the data type\n",
        "print(type(10))"
      ],
      "metadata": {
        "colab": {
          "base_uri": "https://localhost:8080/"
        },
        "id": "wDNewixRCylN",
        "outputId": "fe682608-2e89-4e08-86fc-98bea3615551"
      },
      "execution_count": null,
      "outputs": [
        {
          "output_type": "stream",
          "name": "stdout",
          "text": [
            "10\n",
            "<class 'int'>\n"
          ]
        }
      ]
    },
    {
      "cell_type": "code",
      "source": [
        "#float:- a whole number either -ve or +ve with decimal points.\n",
        "print(10.5)\n",
        "print(type(10.5))\n",
        "print(2.35)\n",
        "print(type(2.35))\n",
        "print(1.0)\n",
        "print(type(-1.0))"
      ],
      "metadata": {
        "colab": {
          "base_uri": "https://localhost:8080/"
        },
        "id": "lPCRs680DmGI",
        "outputId": "975e3ea8-2831-4eb8-c228-487dabac5068"
      },
      "execution_count": null,
      "outputs": [
        {
          "output_type": "stream",
          "name": "stdout",
          "text": [
            "10.5\n",
            "<class 'float'>\n",
            "2.35\n",
            "<class 'float'>\n",
            "1.0\n",
            "<class 'float'>\n"
          ]
        }
      ]
    },
    {
      "cell_type": "code",
      "source": [
        "#complex numbers:- A real number with its imaginary part\n",
        "print(2+4j)\n",
        "print(type(2+4j))\n",
        "#what is \"j'?\n",
        "#j --> iota-->root -1"
      ],
      "metadata": {
        "colab": {
          "base_uri": "https://localhost:8080/"
        },
        "id": "2nN8EUwlD0QO",
        "outputId": "97f5b463-97da-445c-e41b-0bf66b7dd8df"
      },
      "execution_count": null,
      "outputs": [
        {
          "output_type": "stream",
          "name": "stdout",
          "text": [
            "(2+4j)\n",
            "<class 'complex'>\n"
          ]
        }
      ]
    },
    {
      "cell_type": "markdown",
      "source": [
        "#Arthamatic operators"
      ],
      "metadata": {
        "id": "Df21I7EkFrHP"
      }
    },
    {
      "cell_type": "code",
      "source": [
        "#what are all arthamatic operators?\n",
        "#Addition:--->\"+\"\n",
        "print(10 + 5)\n",
        "print(type(10 + 5))\n",
        "#substraction---> \"-\"\n",
        "print(10 - 5)\n",
        "#multiplication----> \"*\"\n",
        "print(10 * 5)\n",
        "#division----> \"/\" (forward slash)\n",
        "print(10 / 5)\n",
        "print(type(10 / 5))"
      ],
      "metadata": {
        "colab": {
          "base_uri": "https://localhost:8080/"
        },
        "id": "RJLAg31IFOld",
        "outputId": "a22afe6d-370f-4c4a-def1-14b881d87f99"
      },
      "execution_count": null,
      "outputs": [
        {
          "output_type": "stream",
          "name": "stdout",
          "text": [
            "15\n",
            "<class 'int'>\n",
            "5\n",
            "50\n",
            "2.0\n",
            "<class 'float'>\n"
          ]
        }
      ]
    },
    {
      "cell_type": "code",
      "source": [
        "#exponential:- to the power off --> **\n",
        "print(2 ** 3)\n",
        "print(type(2 ** 3))\n"
      ],
      "metadata": {
        "colab": {
          "base_uri": "https://localhost:8080/"
        },
        "id": "nK58daQFG30H",
        "outputId": "fd6cfc82-88c6-4d19-cf3e-2dec497d74e1"
      },
      "execution_count": null,
      "outputs": [
        {
          "output_type": "stream",
          "name": "stdout",
          "text": [
            "8\n",
            "<class 'int'>\n"
          ]
        }
      ]
    },
    {
      "cell_type": "code",
      "source": [
        "#floor division:- it will ignores the values after decimal points\n",
        "#doneted with--> \"//\"\n",
        "\n",
        "print(10 / 3)\n",
        "print(10 // 3)"
      ],
      "metadata": {
        "colab": {
          "base_uri": "https://localhost:8080/"
        },
        "id": "I9mUOB9JIy4T",
        "outputId": "5e5176d5-a20c-4430-a4d8-c1aab3fc82ea"
      },
      "execution_count": null,
      "outputs": [
        {
          "output_type": "stream",
          "name": "stdout",
          "text": [
            "3.3333333333333335\n",
            "3\n"
          ]
        }
      ]
    },
    {
      "cell_type": "code",
      "source": [
        "#Modulus :- --->\"%\"-->remainder of a division\n",
        "\n",
        "print(10 % 3)\n",
        "print(type(10 % 3))\n",
        "\n",
        "print(10 % 2)\n",
        "print(type(10 % 2))"
      ],
      "metadata": {
        "colab": {
          "base_uri": "https://localhost:8080/"
        },
        "id": "ElkVAAyAJkj9",
        "outputId": "f24ef54a-dc8d-4dbd-bc16-0ea05a8f9d6b"
      },
      "execution_count": null,
      "outputs": [
        {
          "output_type": "stream",
          "name": "stdout",
          "text": [
            "1\n",
            "<class 'int'>\n",
            "0\n",
            "<class 'int'>\n"
          ]
        }
      ]
    },
    {
      "cell_type": "code",
      "source": [
        "#find the given number is odd or even?\n",
        "print(5 % 2) #odd--- in modulus if you get o/p as 1\n",
        "print(6 % 2) #even -- in modulus if u get o/p as 0"
      ],
      "metadata": {
        "colab": {
          "base_uri": "https://localhost:8080/"
        },
        "id": "c6eHPkLrLI42",
        "outputId": "02ac67c3-caf6-4684-f80f-46fbdf861b4a"
      },
      "execution_count": null,
      "outputs": [
        {
          "output_type": "stream",
          "name": "stdout",
          "text": [
            "1\n",
            "0\n"
          ]
        }
      ]
    },
    {
      "cell_type": "code",
      "source": [
        "#what is a floor value?\n",
        "#it is value before decimal point"
      ],
      "metadata": {
        "id": "O_yPsXLBLux4"
      },
      "execution_count": null,
      "outputs": []
    },
    {
      "cell_type": "markdown",
      "source": [
        "#Types of Erros"
      ],
      "metadata": {
        "id": "iI2w2-0oMw3d"
      }
    },
    {
      "cell_type": "code",
      "source": [
        "#there are 2 types pof error\n",
        "#1.syntax error:- if you break the rules of programming language you have syntax error\n",
        "#ex:-print(10 * * 3)\n"
      ],
      "metadata": {
        "id": "XRg9_1UpMvMG"
      },
      "execution_count": null,
      "outputs": []
    },
    {
      "cell_type": "code",
      "source": [
        "#2.Logical errors:- except syntax error all the errors comes under logical error\n",
        "# ex:- indentation error, type error, recurissive  error...etc\n"
      ],
      "metadata": {
        "id": "hxKCizIWOh-r"
      },
      "execution_count": null,
      "outputs": []
    },
    {
      "cell_type": "markdown",
      "source": [
        "#Round()"
      ],
      "metadata": {
        "id": "H33RArF-QbIM"
      }
    },
    {
      "cell_type": "code",
      "source": [
        "#it will give the nearest value means we are rounding off the value\n",
        "print(round(10.5))\n",
        "print(round(10.6))\n",
        "#note: if the values are equals to or less than (0.5) point 5 thw round off value can be floor value\n"
      ],
      "metadata": {
        "colab": {
          "base_uri": "https://localhost:8080/"
        },
        "id": "7HyGz27TQuTV",
        "outputId": "280bf6e9-e0f7-4354-c567-728e4f03ba7c"
      },
      "execution_count": null,
      "outputs": [
        {
          "output_type": "stream",
          "name": "stdout",
          "text": [
            "10\n",
            "11\n"
          ]
        }
      ]
    },
    {
      "cell_type": "code",
      "source": [
        "#print round off value of 2.3456?\n",
        "print(round(2.3456))\n",
        "#if i want to print number with 2 decimal point?\n",
        "print(round(2.3456,2))\n",
        "#print 1st 3 decimal points?\n",
        "print(round(2.3456,3))"
      ],
      "metadata": {
        "colab": {
          "base_uri": "https://localhost:8080/"
        },
        "id": "EbEtDz8oRigE",
        "outputId": "b7a62c0f-4d27-4cf1-d720-39cb557d26e7"
      },
      "execution_count": null,
      "outputs": [
        {
          "output_type": "stream",
          "name": "stdout",
          "text": [
            "2\n",
            "2.35\n",
            "2.346\n"
          ]
        }
      ]
    },
    {
      "cell_type": "code",
      "source": [
        "#what is ceiling value?\n",
        "#when you use round off fuction if the value is more than point 5(0.5) it will go for neares upcoming value\n",
        "#so upcoming value is known as ceiling value."
      ],
      "metadata": {
        "id": "Up3VSvcPSmzm"
      },
      "execution_count": null,
      "outputs": []
    },
    {
      "cell_type": "code",
      "source": [
        "print(\"hello world!\")"
      ],
      "metadata": {
        "id": "io2n3SbFT26Y",
        "outputId": "574a3d5c-277e-4824-97b4-25604e95c54d",
        "colab": {
          "base_uri": "https://localhost:8080/"
        }
      },
      "execution_count": null,
      "outputs": [
        {
          "output_type": "stream",
          "name": "stdout",
          "text": [
            "hello world!\n"
          ]
        }
      ]
    },
    {
      "cell_type": "code",
      "source": [
        "#print first 3 decimals from the given 9.6543?\n",
        "#9.65\n",
        "print(round(9.6543,3))\n"
      ],
      "metadata": {
        "colab": {
          "base_uri": "https://localhost:8080/"
        },
        "id": "---PW_J1EusW",
        "outputId": "56b69c8d-f74e-44dd-f30b-01c893d9e071"
      },
      "execution_count": null,
      "outputs": [
        {
          "output_type": "stream",
          "name": "stdout",
          "text": [
            "9.654\n"
          ]
        }
      ]
    },
    {
      "cell_type": "markdown",
      "source": [
        "#Varibles"
      ],
      "metadata": {
        "id": "ZY_fPpuqFrbj"
      }
    },
    {
      "cell_type": "code",
      "source": [
        "#why we are using the varibles?\n",
        "#A containers where we can store our valuable information and whenever you want you reuse it\n",
        "#how can we create an variable?\n",
        "\"\"\" lets say father age is x and son\n",
        "age is 1/2 father age\"\"\"\n",
        "x = 40\n",
        "son_age = x/2\n",
        "#how we access an varaible?\n",
        "print(son_age)"
      ],
      "metadata": {
        "colab": {
          "base_uri": "https://localhost:8080/"
        },
        "id": "TqwdGpIOFdfP",
        "outputId": "20aa46cd-9f48-4814-d64d-a35f922e2c24"
      },
      "execution_count": null,
      "outputs": [
        {
          "output_type": "stream",
          "name": "stdout",
          "text": [
            "20.0\n"
          ]
        }
      ]
    },
    {
      "cell_type": "code",
      "source": [
        "#please do all the arthamatic operation by using 2 varible?\n",
        "x = 10\n",
        "y = 5\n",
        "print(x + y)\n",
        "print(x - y)\n",
        "print(x * y)\n",
        "print(x / y)\n",
        "print(x ** y)\n",
        "print(x // y)\n",
        "print(x % y)\n"
      ],
      "metadata": {
        "colab": {
          "base_uri": "https://localhost:8080/"
        },
        "id": "RpDEajWPH_2F",
        "outputId": "b3fa93f1-798e-489d-b96f-90509b8825ea"
      },
      "execution_count": null,
      "outputs": [
        {
          "output_type": "stream",
          "name": "stdout",
          "text": [
            "15\n",
            "5\n",
            "50\n",
            "2.0\n",
            "100000\n",
            "2\n",
            "0\n"
          ]
        }
      ]
    },
    {
      "cell_type": "code",
      "source": [
        "#rules to follow for writing varible\n",
        "#1. varible can written by using alphabets\n",
        "a = \"hello world!\"\n",
        "print(a)\n",
        "#2. you can not start with the numbers\n",
        "#2 =\"hello world\"\n",
        "#print(2)\n",
        "#3. if you follow rule 1 and 2 then you can start with alphabets in between you use number\n",
        "hello2 = \"hello world\"\n",
        "print(hello2)\n",
        "#4.you start with _\n",
        "_ = 10\n",
        "print(_)\n",
        "#5.you cannot you the special chartacters\n",
        "# @ = 10\n",
        "# print(@)\n",
        "#6. you cannot give spaces in between variables\n",
        "# a b c = 10,20,30\n",
        "# print(a,b,c)\n",
        "#7. dont star a varible name with capital letter\n",
        "#8.varibles are case sensitive"
      ],
      "metadata": {
        "id": "wu-8Y0K5JZtj"
      },
      "execution_count": null,
      "outputs": []
    },
    {
      "cell_type": "code",
      "source": [
        "#varibles are case sensitive\n",
        "c = 10\n",
        "print(C)\n",
        "#Note:- By this we can say python \" is an case sensitive language\""
      ],
      "metadata": {
        "id": "6nKtitRyK6OD"
      },
      "execution_count": null,
      "outputs": []
    },
    {
      "cell_type": "code",
      "source": [
        "#smart ways of writing varibles?\n",
        "#1.Assign multiple values to multiple varibles and print it?\n",
        "a,b,c = 10,20,30\n",
        "print(a,b,c)\n",
        "a = 10\n",
        "b = 20\n",
        "c = 30\n",
        "print(a,b,c, sep='\\n')\n"
      ],
      "metadata": {
        "colab": {
          "base_uri": "https://localhost:8080/"
        },
        "id": "mc-t084TMApo",
        "outputId": "a943766e-e674-4e03-ddd3-7adf76b7b7d6"
      },
      "execution_count": null,
      "outputs": [
        {
          "output_type": "stream",
          "name": "stdout",
          "text": [
            "10 20 30\n",
            "10\n",
            "20\n",
            "30\n"
          ]
        }
      ]
    },
    {
      "cell_type": "code",
      "source": [
        "#assign single value to the multiple varible and print it?\n",
        "a = 10\n",
        "b = 10\n",
        "c = 10\n",
        "#print(a,b,c)\n",
        "\n",
        "a = b = c = 10\n",
        "# print(a,b,c)\n",
        "#print the output in seprate line?\n",
        "#we are using \"sep = \"\\n\"\" to print the output in n no. of lines\n",
        "# print(a)\n",
        "# print(b)\n",
        "# print(c)\n",
        "print(a,b,c, sep=\"\\n\")"
      ],
      "metadata": {
        "colab": {
          "base_uri": "https://localhost:8080/"
        },
        "id": "bk-DjTJZMnah",
        "outputId": "8ca34963-d865-463e-8263-66151e19cadb"
      },
      "execution_count": null,
      "outputs": [
        {
          "output_type": "stream",
          "name": "stdout",
          "text": [
            "10\n",
            "10\n",
            "10\n"
          ]
        }
      ]
    },
    {
      "cell_type": "markdown",
      "source": [
        "#input()"
      ],
      "metadata": {
        "id": "mxlyv8iZOUgv"
      }
    },
    {
      "cell_type": "code",
      "source": [
        "#what is input()?\n",
        "#it will takes what ever information given by user\n",
        "#how to create input()?\n",
        "#to create input function we are using \"input()\" along with varible\n",
        "#how to access the input()?\n",
        "# with help of input varible we can access the input() values.\n",
        "\n",
        "#what is use of input()?\n",
        "#we can give multiple values to the single variable\n"
      ],
      "metadata": {
        "id": "lQxPRyezNLVv"
      },
      "execution_count": null,
      "outputs": []
    },
    {
      "cell_type": "code",
      "source": [
        "#we can give multiple user values to the single variable\n",
        "a = input()\n",
        "print(a)\n",
        "print(type(a))\n",
        "#what is default data type for input()?\n",
        "#string"
      ],
      "metadata": {
        "colab": {
          "base_uri": "https://localhost:8080/"
        },
        "id": "jbRpfUXuO3Fd",
        "outputId": "b11cab6b-21d7-44f4-f36d-ff2b44a10e81"
      },
      "execution_count": null,
      "outputs": [
        {
          "output_type": "stream",
          "name": "stdout",
          "text": [
            "2 + 5j\n",
            "2 + 5j\n",
            "<class 'str'>\n"
          ]
        }
      ]
    },
    {
      "cell_type": "code",
      "source": [
        "#create  2 input() program and do all the arthamatic operation?\n",
        "a = float(input())\n",
        "b = float(input())\n",
        "print(a + b)\n",
        "print(a - b)\n",
        "print(a * b)\n",
        "print(a / b)\n",
        "print(a ** b)\n",
        "print(a // b)\n",
        "print(a % b)\n",
        "print(type(a % b))\n"
      ],
      "metadata": {
        "id": "v423KF7gP1iD"
      },
      "execution_count": null,
      "outputs": []
    },
    {
      "cell_type": "code",
      "source": [
        "a  = input(\"enter the number :\" )\n",
        "print(a)"
      ],
      "metadata": {
        "colab": {
          "base_uri": "https://localhost:8080/"
        },
        "id": "JbPinaKdSa7R",
        "outputId": "b4239666-364a-4394-fbd5-969dd9698bc6"
      },
      "execution_count": null,
      "outputs": [
        {
          "output_type": "stream",
          "name": "stdout",
          "text": [
            "enter the number :10\n",
            "10\n"
          ]
        }
      ]
    },
    {
      "cell_type": "markdown",
      "source": [
        "#string"
      ],
      "metadata": {
        "id": "-cSo4T2qRlRw"
      }
    },
    {
      "cell_type": "code",
      "source": [
        "#what is astring?\n",
        "#string collection group of character which written inside \" \"\n",
        "a = \"hello world!\"\n",
        "print(a)\n",
        "print(type(a))"
      ],
      "metadata": {
        "colab": {
          "base_uri": "https://localhost:8080/"
        },
        "id": "yrlJM0nLRha_",
        "outputId": "057a86a9-b363-497f-82ae-42c4c3bb8169"
      },
      "execution_count": null,
      "outputs": [
        {
          "output_type": "stream",
          "name": "stdout",
          "text": [
            "hello world!\n",
            "<class 'str'>\n"
          ]
        }
      ]
    },
    {
      "cell_type": "code",
      "source": [
        "#write a multiple line of string?\n",
        "#\"\"\"  \"\"\" / ''' '''\n",
        "#note:- when you start with double quotes end with double qouts and vice versa\n",
        "a = \"\"\" Hi, hope your doing well,\n",
        "you been sellected a for x position\"\"\"\n",
        "print(a)\n"
      ],
      "metadata": {
        "colab": {
          "base_uri": "https://localhost:8080/"
        },
        "id": "ulB0gQOgR8i9",
        "outputId": "2a64c738-6629-4d8b-d4e7-7bb3646853a9"
      },
      "execution_count": null,
      "outputs": [
        {
          "output_type": "stream",
          "name": "stdout",
          "text": [
            " Hi, hope your doing well, \n",
            "you been sellected a for x position\n"
          ]
        }
      ]
    },
    {
      "cell_type": "code",
      "source": [
        "#how can you write a multiple line of message by using input()?\n",
        "a = input(\"enter the message :\")\n",
        "print(a)"
      ],
      "metadata": {
        "colab": {
          "base_uri": "https://localhost:8080/"
        },
        "id": "e2nHgn7bT-gZ",
        "outputId": "0ebe431b-887b-49c4-a7e2-367d12134eb4"
      },
      "execution_count": null,
      "outputs": [
        {
          "output_type": "stream",
          "name": "stdout",
          "text": [
            "enter the message :\"\"\" Hi, hope your doing well,  you been sellected a for x position\"\"\"\n",
            "\"\"\" Hi, hope your doing well,  you been sellected a for x position\"\"\"\n"
          ]
        }
      ]
    },
    {
      "cell_type": "code",
      "source": [
        "#note:string is collection multiple characters eacha and every charceter is accessble.\n",
        "#how can we accesss each element in a string?\n",
        "#indexing:- positional number of each and every element in a string\n",
        "#slicing operator:- --->[]\n",
        "#what is substring?\n",
        "#getting a part from original string is know as substring"
      ],
      "metadata": {
        "id": "MouPGuhDUraM"
      },
      "execution_count": null,
      "outputs": []
    },
    {
      "cell_type": "code",
      "source": [
        "#find the length of given string?\n",
        "a = \"hello world!\"\n",
        "#i am using \"len()\" to find klentght of character in string\n",
        "print(len(a))"
      ],
      "metadata": {
        "colab": {
          "base_uri": "https://localhost:8080/"
        },
        "id": "gEyFeBxMWb2c",
        "outputId": "8118512c-c9ef-4650-cfda-c1d1b8b4048f"
      },
      "execution_count": null,
      "outputs": [
        {
          "output_type": "stream",
          "name": "stdout",
          "text": [
            "12\n"
          ]
        }
      ]
    },
    {
      "cell_type": "code",
      "source": [
        "a = \"hello world!\"\n",
        "#print \"h\" from hello world?\n",
        "#[start]\n",
        "print(a[0])\n",
        "#print \"w\" from hello word!?"
      ],
      "metadata": {
        "colab": {
          "base_uri": "https://localhost:8080/"
        },
        "id": "3XB-C7W-XDVp",
        "outputId": "ea7db149-04fa-448e-bc77-0414447d74c2"
      },
      "execution_count": null,
      "outputs": [
        {
          "output_type": "stream",
          "name": "stdout",
          "text": [
            "h\n"
          ]
        }
      ]
    },
    {
      "cell_type": "code",
      "source": [
        "#print the range of characters?\n",
        "#[start:end]\n",
        "#print \"hello\" from hello world!?\n",
        "print(a[0:5])\n",
        "print(a[6:11])\n",
        "#note:- if u want to display specific end cahracter you need add it with 1--> n+1"
      ],
      "metadata": {
        "colab": {
          "base_uri": "https://localhost:8080/"
        },
        "id": "BcakUOYqbTDT",
        "outputId": "1d033020-08c2-4f40-ce81-eeaad1ea8238"
      },
      "execution_count": null,
      "outputs": [
        {
          "output_type": "stream",
          "name": "stdout",
          "text": [
            "hello\n",
            "world\n"
          ]
        }
      ]
    },
    {
      "cell_type": "code",
      "source": [
        "#i want to print step wise elements from a string?\n",
        "#[start:end:step]\n",
        "print(a[0:12:3])\n"
      ],
      "metadata": {
        "colab": {
          "base_uri": "https://localhost:8080/"
        },
        "id": "AXzkp6MecK2b",
        "outputId": "ddf2a5d5-2b29-4e2c-bcf0-faa047a7bb08"
      },
      "execution_count": null,
      "outputs": [
        {
          "output_type": "stream",
          "name": "stdout",
          "text": [
            "hlwl\n"
          ]
        }
      ]
    },
    {
      "cell_type": "code",
      "source": [
        "#Negative indexing:- accesing the elements in string from reverse direction.\n",
        "#print last character of the string?\n",
        "a = \"hello world!\"\n",
        "# print(a[-1])\n",
        "#print world from hello world in -ve indexing?\n",
        "print(a[-7:-1])"
      ],
      "metadata": {
        "colab": {
          "base_uri": "https://localhost:8080/"
        },
        "id": "c3bGKdqBdTFY",
        "outputId": "54e21d9c-a011-42b2-de61-33939782980e"
      },
      "execution_count": null,
      "outputs": [
        {
          "output_type": "stream",
          "name": "stdout",
          "text": [
            " world\n"
          ]
        }
      ]
    },
    {
      "cell_type": "code",
      "source": [
        "#but i want go in reverse direction\n",
        "#step\n",
        "a = \"hello world!\"\n",
        "print(a[-1:-7:-1])\n"
      ],
      "metadata": {
        "colab": {
          "base_uri": "https://localhost:8080/"
        },
        "id": "3tZ3JFDHezSj",
        "outputId": "428f5b6a-fab4-419f-ce1d-a1c9e1360375"
      },
      "execution_count": null,
      "outputs": [
        {
          "output_type": "stream",
          "name": "stdout",
          "text": [
            "!dlrow\n"
          ]
        }
      ]
    },
    {
      "cell_type": "code",
      "source": [
        "#reverse a given string?\n",
        "# \"Univerese\"\n",
        "a = \"Univerese\"\n",
        "print(a[-1:-10:-1])\n",
        "#default methods\n",
        "#[start:end:step]\n",
        "print(a[::-1])"
      ],
      "metadata": {
        "colab": {
          "base_uri": "https://localhost:8080/"
        },
        "id": "Y6UvJytmfW8v",
        "outputId": "e1c967d9-ad9b-467d-d222-f5c81de0f3d8"
      },
      "execution_count": null,
      "outputs": [
        {
          "output_type": "stream",
          "name": "stdout",
          "text": [
            "eserevinU\n",
            "eserevinU\n"
          ]
        }
      ]
    },
    {
      "cell_type": "code",
      "source": [
        "#Tell weather a string is palindrome or not?\n",
        "b = 'mom'\n",
        "print(b)\n",
        "print(b[::-1])"
      ],
      "metadata": {
        "colab": {
          "base_uri": "https://localhost:8080/"
        },
        "id": "MYmGsJOhhWN5",
        "outputId": "0a988c83-484a-4e7d-9791-170ce5262c78"
      },
      "execution_count": null,
      "outputs": [
        {
          "output_type": "stream",
          "name": "stdout",
          "text": [
            "mom\n",
            "mom\n"
          ]
        }
      ]
    },
    {
      "cell_type": "code",
      "source": [
        "c = \"hyderabad\"\n",
        "print(c)\n",
        "print(c[::-1])"
      ],
      "metadata": {
        "colab": {
          "base_uri": "https://localhost:8080/"
        },
        "id": "h6Et3FZjhsm6",
        "outputId": "49048b54-7a0b-40fc-e6e4-dcceaa862036"
      },
      "execution_count": null,
      "outputs": [
        {
          "output_type": "stream",
          "name": "stdout",
          "text": [
            "hyderabad\n",
            "dabaredyh\n"
          ]
        }
      ]
    },
    {
      "cell_type": "code",
      "source": [
        "string = \"Hello, World!\"\n",
        "print(string[3:7])"
      ],
      "metadata": {
        "colab": {
          "base_uri": "https://localhost:8080/"
        },
        "id": "2XsIHfQyVBNj",
        "outputId": "98314ead-b8f9-4b43-9eeb-870c691a9f3e"
      },
      "execution_count": null,
      "outputs": [
        {
          "output_type": "stream",
          "name": "stdout",
          "text": [
            "lo, \n"
          ]
        }
      ]
    },
    {
      "cell_type": "code",
      "source": [
        "string = \"Hello, World!\"\n",
        "#[start:end:step]\n",
        "print(string[::-2])"
      ],
      "metadata": {
        "colab": {
          "base_uri": "https://localhost:8080/"
        },
        "id": "hKp_IVJiViVm",
        "outputId": "7892332e-957d-4cb9-d737-5f6c5f7614b2"
      },
      "execution_count": null,
      "outputs": [
        {
          "output_type": "stream",
          "name": "stdout",
          "text": [
            "!lo olH\n"
          ]
        }
      ]
    },
    {
      "cell_type": "code",
      "source": [
        "string = \"Hello, World!\"\n",
        "print(string[::2])"
      ],
      "metadata": {
        "colab": {
          "base_uri": "https://localhost:8080/"
        },
        "id": "2EytuvcJWRb9",
        "outputId": "eadf1c24-5a63-4ac7-9cdf-7304287c788d"
      },
      "execution_count": null,
      "outputs": [
        {
          "output_type": "stream",
          "name": "stdout",
          "text": [
            "Hlo ol!\n"
          ]
        }
      ]
    },
    {
      "cell_type": "code",
      "source": [
        "#print the end element?\n",
        "print(string[-1])"
      ],
      "metadata": {
        "colab": {
          "base_uri": "https://localhost:8080/"
        },
        "id": "MRrru6DVXNfT",
        "outputId": "6ede1fe0-516d-46f5-b326-6f0626e3b5b8"
      },
      "execution_count": null,
      "outputs": [
        {
          "output_type": "stream",
          "name": "stdout",
          "text": [
            "!\n"
          ]
        }
      ]
    },
    {
      "cell_type": "code",
      "source": [
        "#print hello by using -ve indexing?\n",
        "print(string[-8:-14:-1])"
      ],
      "metadata": {
        "colab": {
          "base_uri": "https://localhost:8080/"
        },
        "id": "XMss3E7bXv23",
        "outputId": "4b8b85b8-eb1d-41d5-f5dd-9c100034cc28"
      },
      "execution_count": null,
      "outputs": [
        {
          "output_type": "stream",
          "name": "stdout",
          "text": [
            ",olleH\n"
          ]
        }
      ]
    },
    {
      "cell_type": "markdown",
      "source": [
        "**string methods**"
      ],
      "metadata": {
        "id": "7FFu_bHGYpLx"
      }
    },
    {
      "cell_type": "code",
      "source": [
        "x = \"hello world!\"\n",
        "#what are all the methods i can apply on x = \" hello world!\"\n",
        "#we are using \"dir()\" to know what are all the methods apply on strin\n",
        "print(dir(x))"
      ],
      "metadata": {
        "colab": {
          "base_uri": "https://localhost:8080/"
        },
        "id": "fQueicSaYsoW",
        "outputId": "c4da29bc-ab21-4764-8ab3-92dd7b199ca9"
      },
      "execution_count": null,
      "outputs": [
        {
          "output_type": "stream",
          "name": "stdout",
          "text": [
            "['__add__', '__class__', '__contains__', '__delattr__', '__dir__', '__doc__', '__eq__', '__format__', '__ge__', '__getattribute__', '__getitem__', '__getnewargs__', '__gt__', '__hash__', '__init__', '__init_subclass__', '__iter__', '__le__', '__len__', '__lt__', '__mod__', '__mul__', '__ne__', '__new__', '__reduce__', '__reduce_ex__', '__repr__', '__rmod__', '__rmul__', '__setattr__', '__sizeof__', '__str__', '__subclasshook__', 'capitalize', 'casefold', 'center', 'count', 'encode', 'endswith', 'expandtabs', 'find', 'format', 'format_map', 'index', 'isalnum', 'isalpha', 'isascii', 'isdecimal', 'isdigit', 'isidentifier', 'islower', 'isnumeric', 'isprintable', 'isspace', 'istitle', 'isupper', 'join', 'ljust', 'lower', 'lstrip', 'maketrans', 'partition', 'removeprefix', 'removesuffix', 'replace', 'rfind', 'rindex', 'rjust', 'rpartition', 'rsplit', 'rstrip', 'split', 'splitlines', 'startswith', 'strip', 'swapcase', 'title', 'translate', 'upper', 'zfill']\n"
          ]
        }
      ]
    },
    {
      "cell_type": "code",
      "source": [
        "#1.capitaize()\n",
        "#2.upper()\n",
        "#3.lower()\n",
        "#4.replace() ***\n",
        "#5.trim()\n",
        "#6.ltrim()\n",
        "#7.rtrim()\n",
        "#8.title()\n",
        "#9.swapcase()\n",
        "#10.split()\n",
        "#how can you applly string methods?\n",
        "x = \"hello world!\"\n",
        "print(x.upper())\n",
        "print(x.lower())\n",
        "print(x.title())\n",
        "print(x.swapcase())"
      ],
      "metadata": {
        "colab": {
          "base_uri": "https://localhost:8080/"
        },
        "id": "ruBfqym5Z1eg",
        "outputId": "ab9c9fd4-4ccd-4d9a-ab0a-4762a7d0e571"
      },
      "execution_count": null,
      "outputs": [
        {
          "output_type": "stream",
          "name": "stdout",
          "text": [
            "HELLO WORLD!\n",
            "hello world!\n",
            "Hello World!\n",
            "HELLO WORLD!\n"
          ]
        }
      ]
    },
    {
      "cell_type": "markdown",
      "source": [
        "**string formatmethod**"
      ],
      "metadata": {
        "id": "wXVRG73mbjYF"
      }
    },
    {
      "cell_type": "code",
      "source": [
        "x = \"10\"\n",
        "y = \"my age is \"\n",
        "#print \" my age is\"\n",
        "print(y+\" \" +x)"
      ],
      "metadata": {
        "colab": {
          "base_uri": "https://localhost:8080/"
        },
        "id": "cAn4YxKfbWr5",
        "outputId": "58662bdf-840f-49c5-a6d5-2e80c4b972c3"
      },
      "execution_count": null,
      "outputs": [
        {
          "output_type": "stream",
          "name": "stdout",
          "text": [
            "my age is  10\n"
          ]
        }
      ]
    },
    {
      "cell_type": "code",
      "source": [
        "#what is string format method?\n",
        "#FAILLING the placeholder{} with given arguments\n",
        "#there are  format methods"
      ],
      "metadata": {
        "id": "AhR6w2eIcOYH"
      },
      "execution_count": null,
      "outputs": []
    },
    {
      "cell_type": "code",
      "source": [
        "#1st method\n",
        "age = 40\n",
        "string = \"my age is {}\"\n",
        "print(string.format(age))"
      ],
      "metadata": {
        "colab": {
          "base_uri": "https://localhost:8080/"
        },
        "id": "nbK46KhZciF5",
        "outputId": "9390d978-d6d6-46f4-fc19-9197ed51c39b"
      },
      "execution_count": null,
      "outputs": [
        {
          "output_type": "stream",
          "name": "stdout",
          "text": [
            "my age is 40\n"
          ]
        }
      ]
    },
    {
      "cell_type": "code",
      "source": [
        "#2nd method\n",
        "age = 40\n",
        "string = \"my age is {}\".format(age)\n",
        "print(string)"
      ],
      "metadata": {
        "colab": {
          "base_uri": "https://localhost:8080/"
        },
        "id": "L12J2iILc1lj",
        "outputId": "fef3c222-3f77-4496-ce78-74e862240214"
      },
      "execution_count": null,
      "outputs": [
        {
          "output_type": "stream",
          "name": "stdout",
          "text": [
            "my age is 40\n"
          ]
        }
      ]
    },
    {
      "cell_type": "code",
      "source": [
        "#3rd f'format method' ***\n",
        "age = 40\n",
        "string = f\"my age is {age}\"\n",
        "print(string)\n"
      ],
      "metadata": {
        "colab": {
          "base_uri": "https://localhost:8080/"
        },
        "id": "kRja5EPAdEcX",
        "outputId": "c6814373-22b4-4d70-b425-761258ffbb81"
      },
      "execution_count": null,
      "outputs": [
        {
          "output_type": "stream",
          "name": "stdout",
          "text": [
            "my age is 40\n"
          ]
        }
      ]
    },
    {
      "cell_type": "code",
      "source": [
        "item = 'Product A'\n",
        "price = 99.9\n",
        "quantity = 20\n",
        "#expected output: your order for product a number of items quantity priced at 99.99 is confiremd\n",
        "text = \"your order for {} number of items {} priced at {} is confiremd\"\n",
        "\n",
        "print(text.format(item,quantity,price))\n",
        "\n"
      ],
      "metadata": {
        "id": "cJ6btxOudjvZ"
      },
      "execution_count": null,
      "outputs": []
    },
    {
      "cell_type": "code",
      "source": [
        "item = 'Product A'\n",
        "price = 99.9\n",
        "quantity = 20\n",
        "#expected output: your order for product a number of items quantity priced at 99.99 is confiremd\n",
        "text = \"your order for {} number of items {} priced at {} is confiremd\".format(item,quantity,price)\n",
        "\n",
        "print(text)"
      ],
      "metadata": {
        "colab": {
          "base_uri": "https://localhost:8080/"
        },
        "id": "Z66HLLuFflf8",
        "outputId": "134d65d9-45f0-4f01-a228-4ae2b2613ba0"
      },
      "execution_count": null,
      "outputs": [
        {
          "output_type": "stream",
          "name": "stdout",
          "text": [
            "your order for Product A number of items 20 priced at 99.9 is confiremd\n"
          ]
        }
      ]
    },
    {
      "cell_type": "code",
      "source": [
        "item = 'Product A'\n",
        "price = 99.9\n",
        "quantity = 20\n",
        "#expected output: your order for product a number of items quantity priced at 99.99 is confiremd\n",
        "text = f\"your order for {item} number of items {quantity} priced at {price*quantity} is confiremd\"\n",
        "\n",
        "print(text)"
      ],
      "metadata": {
        "colab": {
          "base_uri": "https://localhost:8080/"
        },
        "id": "tK_MFlNSfqg0",
        "outputId": "5129041a-2d3a-4beb-e508-fd7573cadd55"
      },
      "execution_count": null,
      "outputs": [
        {
          "output_type": "stream",
          "name": "stdout",
          "text": [
            "your order for Product A number of items 20 priced at 1998.0 is confiremd\n"
          ]
        }
      ]
    },
    {
      "cell_type": "markdown",
      "source": [
        "#conditional statements( control structures)"
      ],
      "metadata": {
        "id": "HA5a7qRMgdXL"
      }
    },
    {
      "cell_type": "code",
      "source": [
        "#what are all comparision operators do we have in python?\n",
        "#1.equals to----> ==\n",
        "#2.not equals---> !=\n",
        "#3.greater than---> >\n",
        "#4.less than ---> <\n",
        "#5.greter than ---> >=\n",
        "#6.less than ----> <="
      ],
      "metadata": {
        "id": "ujnxJWkqglc3"
      },
      "execution_count": null,
      "outputs": []
    },
    {
      "cell_type": "code",
      "source": [
        "print( 10 == 10)\n",
        "print( 10 != 10)\n",
        "print( 10 > 10)\n",
        "print( 10 < 10)\n",
        "print( 10 >= 10)\n",
        "print( 10 <= 10)"
      ],
      "metadata": {
        "colab": {
          "base_uri": "https://localhost:8080/"
        },
        "id": "Wf3TI2LkhRcH",
        "outputId": "36c77455-9f41-4c64-a944-5f373ee3f571"
      },
      "execution_count": null,
      "outputs": [
        {
          "output_type": "stream",
          "name": "stdout",
          "text": [
            "True\n",
            "False\n",
            "False\n",
            "False\n",
            "True\n",
            "True\n"
          ]
        }
      ]
    },
    {
      "cell_type": "code",
      "source": [
        "print(\"Hello\" == \"hello\")"
      ],
      "metadata": {
        "colab": {
          "base_uri": "https://localhost:8080/"
        },
        "id": "rYoVcv1QhjwB",
        "outputId": "438b4de9-55e7-45e3-add4-ed1d7fa28d5a"
      },
      "execution_count": null,
      "outputs": [
        {
          "output_type": "stream",
          "name": "stdout",
          "text": [
            "False\n"
          ]
        }
      ]
    },
    {
      "cell_type": "code",
      "source": [
        "#what are all conditional statements we are having?\n",
        "#if,elif, else"
      ],
      "metadata": {
        "id": "pVt21qe_h2Sw"
      },
      "execution_count": null,
      "outputs": []
    },
    {
      "cell_type": "code",
      "source": [
        "marks = 34\n",
        "passing_marks = 35\n",
        "total_marks = 100\n",
        "if marks >= passing_marks:\n",
        "  print(\"congratulation\")\n",
        "  print(f'you have passed with {marks} marks')\n",
        "else:\n",
        "  print(\"better luck next time\")\n",
        "  print(f\"you have got {marks} marks\")\n"
      ],
      "metadata": {
        "colab": {
          "base_uri": "https://localhost:8080/"
        },
        "id": "rnTe6Zi9iL34",
        "outputId": "42f5f8f0-61ab-4097-d084-987a812205cc"
      },
      "execution_count": null,
      "outputs": [
        {
          "output_type": "stream",
          "name": "stdout",
          "text": [
            "better luck next time\n",
            "you have got 34 marks\n"
          ]
        }
      ]
    },
    {
      "cell_type": "code",
      "source": [
        "#print a number if it os +ve print +ve and if it is _ve pribt \"-ve\" if it is zero print \"neutral\"\n",
        "a = int(input())\n",
        "if a > 0:\n",
        "  print(\"+ve\")\n",
        "elif a == 0:\n",
        "  print(\"neutral\")\n",
        "else:\n",
        "  print(\"-ve\")"
      ],
      "metadata": {
        "colab": {
          "base_uri": "https://localhost:8080/"
        },
        "id": "tlMF1jnxjmP8",
        "outputId": "17070cdb-d0ba-42d2-bdfb-c64e27854a3f"
      },
      "execution_count": null,
      "outputs": [
        {
          "output_type": "stream",
          "name": "stdout",
          "text": [
            "-0\n",
            "neutral\n"
          ]
        }
      ]
    },
    {
      "cell_type": "code",
      "source": [
        "#Logical Operators:- and, or, not\n",
        "#and:- all the condition present true\n",
        "#or:- if any one condition satisfied\n",
        "#not:- reverse out put"
      ],
      "metadata": {
        "id": "MgouIYTrk5zE"
      },
      "execution_count": null,
      "outputs": []
    },
    {
      "cell_type": "code",
      "source": [
        "print(10 == 10)\n",
        "print(not(10 == 10))"
      ],
      "metadata": {
        "colab": {
          "base_uri": "https://localhost:8080/"
        },
        "id": "-DKQ0mx5lRWs",
        "outputId": "bacb3118-45c8-4779-e58a-862cff96f0c2"
      },
      "execution_count": null,
      "outputs": [
        {
          "output_type": "stream",
          "name": "stdout",
          "text": [
            "True\n",
            "False\n"
          ]
        }
      ]
    },
    {
      "cell_type": "code",
      "source": [
        "a = 10\n",
        "b = 56\n",
        "c = 455\n",
        "#check the condition that s is lesser than b and b is lesser than c and b is greater than a\n",
        "if a < b and b < c and b > a:\n",
        "  print(\"yes\")\n",
        "else:\n",
        "  print(\"no\")"
      ],
      "metadata": {
        "colab": {
          "base_uri": "https://localhost:8080/"
        },
        "id": "aeTw9R5ylb9n",
        "outputId": "a2a62fa8-1dd2-4090-f3f5-ea5c168b4340"
      },
      "execution_count": null,
      "outputs": [
        {
          "output_type": "stream",
          "name": "stdout",
          "text": [
            "yes\n"
          ]
        }
      ]
    },
    {
      "cell_type": "code",
      "source": [
        "a = 10\n",
        "b = 56\n",
        "c = 455\n",
        "#check the condition that s is lesser than b and b is lesser than c and b is greater than a\n",
        "if a > b or b < c or b > a:\n",
        "  print(\"yes\")\n",
        "else:\n",
        "  print(\"no\")"
      ],
      "metadata": {
        "colab": {
          "base_uri": "https://localhost:8080/"
        },
        "id": "OUrVLRalmaIb",
        "outputId": "e21c77dc-ae1b-4a74-c176-8ce67640e2ab"
      },
      "execution_count": null,
      "outputs": [
        {
          "output_type": "stream",
          "name": "stdout",
          "text": [
            "yes\n"
          ]
        }
      ]
    },
    {
      "cell_type": "code",
      "source": [
        "#Nested condition:\n",
        "#when we have to use nested condition.\n",
        "a = int(input())\n",
        "#  i want display  all th conditions satified\n",
        "if a > 10:\n",
        "  print(\"a is greater than 10\")\n",
        "  if a > 20:\n",
        "    print(\"a is greater than 20\")\n",
        "    if a > 30:\n",
        "      print(\"a is greater than 30\")\n",
        "      if a > 50:\n",
        "        print(\"a is greater than 50\")\n",
        "      else:\n",
        "        print(\"a is lesser than 50\")\n",
        "    else:\n",
        "      print(\"a is lesser tha 30\")\n",
        "  else:\n",
        "    print(\" ais  lesser tha 20\")\n",
        "else:\n",
        "  print(\"a is less than 10\")\n"
      ],
      "metadata": {
        "colab": {
          "base_uri": "https://localhost:8080/"
        },
        "id": "0PcuY5qMmxq8",
        "outputId": "e147c80b-cdcf-42a3-d699-649748f1c78f"
      },
      "execution_count": null,
      "outputs": [
        {
          "output_type": "stream",
          "name": "stdout",
          "text": [
            "20\n",
            "a is greater than 10\n",
            " ais  lesser tha 20\n"
          ]
        }
      ]
    },
    {
      "cell_type": "code",
      "source": [
        "#pass:- is a null place holder when you execute it nothing will happens\n",
        "a = int(input(\" enter your number: \"))\n",
        "if a > 0:\n",
        "  print(\"+ve\")\n",
        "\n",
        "elif a == 0:\n",
        "  pass\n",
        "\n",
        "else:\n",
        "  print(\"-ve\")"
      ],
      "metadata": {
        "colab": {
          "base_uri": "https://localhost:8080/"
        },
        "id": "WynExJUQok-P",
        "outputId": "ad5b7247-4a19-4c70-c5ff-9fe583b1a101"
      },
      "execution_count": null,
      "outputs": [
        {
          "output_type": "stream",
          "name": "stdout",
          "text": [
            " enter your number: 8\n",
            "+ve\n"
          ]
        }
      ]
    },
    {
      "cell_type": "code",
      "source": [
        "#check what grade we can give to the students based upon their marks?\n",
        "#total marks = 100\n",
        "#if the student get 90 to 100 --> A+\n",
        "#if the student get 80 to 90 --> A\n",
        "#if the student get 70 to 80 --> B+\n",
        "#if the student get 60 to 70 --> B\n",
        "#if the student get 50 to 60 --> c\n",
        "#if the student get 40 to 50 --> D\n",
        "#Below it display \"better luck next time.\""
      ],
      "metadata": {
        "id": "utp3KVuyqD6i"
      },
      "execution_count": null,
      "outputs": []
    },
    {
      "cell_type": "markdown",
      "source": [
        "#Loops"
      ],
      "metadata": {
        "id": "vdZg0qGve-ru"
      }
    },
    {
      "cell_type": "code",
      "source": [
        "#why we use the loops\n",
        "#we are using this loops to avoid \"wet code\" and to encourage \"dry code.\"\n",
        "#1. WET Code -->mean youare repeating the code.\n",
        "\n",
        "\"\"\" w--> write\n",
        "    e--> everything\n",
        "    t---> twice \"\"\"\n",
        "\n",
        "#DRY Code  --> not repeating the same code\n",
        "\"\"\" D --> Don't\n",
        "    R ---> repeat\n",
        "    y---> yourself\"\"\"\n",
        "#how may types of loops in py prog lang?\n",
        "# 1. while\n",
        "#2. for loop"
      ],
      "metadata": {
        "id": "yf2k-WxPgkv1"
      },
      "execution_count": null,
      "outputs": []
    },
    {
      "cell_type": "code",
      "source": [
        "#While loop:- it works / runs a set of instruction as long as the conditions true.\n",
        "target = 5\n",
        "intial = 0\n",
        "while intial < target:\n",
        "  print(\"go down\")\n",
        "  print(\"go up\")\n",
        "  print(\"=====rep is completed=====\")\n",
        "  intial = intial + 2"
      ],
      "metadata": {
        "colab": {
          "base_uri": "https://localhost:8080/"
        },
        "id": "V_sPLgRliAWR",
        "outputId": "27760b50-f555-4ab8-ee71-3124cb4fb00a"
      },
      "execution_count": null,
      "outputs": [
        {
          "output_type": "stream",
          "name": "stdout",
          "text": [
            "go down\n",
            "go up\n",
            "=====rep is completed=====\n",
            "go down\n",
            "go up\n",
            "=====rep is completed=====\n",
            "go down\n",
            "go up\n",
            "=====rep is completed=====\n"
          ]
        }
      ]
    },
    {
      "cell_type": "code",
      "source": [
        "#write a program to run a lift to reach 4th floor?\n",
        "D = 4\n",
        "i = 0\n",
        "while i < D:\n",
        "  print(\"reach destination\")\n",
        "  print(\"==================\")\n",
        "  i = i + 1"
      ],
      "metadata": {
        "colab": {
          "base_uri": "https://localhost:8080/"
        },
        "id": "LBYVm5xqkkbE",
        "outputId": "b790fd40-174c-427e-e4e9-971befa902d9"
      },
      "execution_count": null,
      "outputs": [
        {
          "output_type": "stream",
          "name": "stdout",
          "text": [
            "reach destination\n",
            "==================\n",
            "reach destination\n",
            "==================\n",
            "reach destination\n",
            "==================\n",
            "reach destination\n",
            "==================\n"
          ]
        }
      ]
    },
    {
      "cell_type": "code",
      "source": [
        "#let say i = 10 while the i value is less than 10 print the values of i upto 10?\n",
        "i = 0\n",
        "while i < 10:\n",
        "  print(i)\n",
        "  i = i + 1   # i += 1\n"
      ],
      "metadata": {
        "id": "xc_ipKxulg2k"
      },
      "execution_count": null,
      "outputs": []
    },
    {
      "cell_type": "code",
      "source": [
        "d = 10\n",
        "s = 0\n",
        "while s <= d:\n",
        "  print(s)\n",
        "  s = s + 1"
      ],
      "metadata": {
        "id": "UjOdqbl1mpRC"
      },
      "execution_count": null,
      "outputs": []
    },
    {
      "cell_type": "code",
      "source": [
        "#print the muliples of 2 upto 10  for that write a program?\n",
        "i = int(input())\n",
        "target = int(input())\n",
        "while i <= target:\n",
        "  print(i)\n",
        "  i = i * 2"
      ],
      "metadata": {
        "id": "wEcaZIxBnUPL"
      },
      "execution_count": null,
      "outputs": []
    },
    {
      "cell_type": "code",
      "source": [
        "#write a program weater the given string is palindrome or not?\n",
        "a = input()\n",
        "a_rev = a[::-1]\n",
        "print(f'rev of string {a_rev}')\n",
        "if a.upper() == a_rev.upper():\n",
        "  print(f'{a} is palidrome')\n",
        "else:\n",
        "  print(f'{a} is not palindrome')\n",
        "\n",
        "\n"
      ],
      "metadata": {
        "colab": {
          "base_uri": "https://localhost:8080/"
        },
        "id": "46kL8kyEracL",
        "outputId": "2a80551c-d515-44c7-ce11-d7f8bcf796d5"
      },
      "execution_count": null,
      "outputs": [
        {
          "output_type": "stream",
          "name": "stdout",
          "text": [
            "Malayalam\n",
            "rev of string malayalaM\n",
            "Malayalam is palidrome\n"
          ]
        }
      ]
    },
    {
      "cell_type": "code",
      "source": [
        "print(\"malayalam\"== \"Malayalam\")"
      ],
      "metadata": {
        "colab": {
          "base_uri": "https://localhost:8080/"
        },
        "id": "jyflVyADsZ5s",
        "outputId": "de1a6275-7109-4d6c-a188-4b8753555cfa"
      },
      "execution_count": null,
      "outputs": [
        {
          "output_type": "stream",
          "name": "stdout",
          "text": [
            "False\n"
          ]
        }
      ]
    },
    {
      "cell_type": "code",
      "source": [
        "a =\"HydeRAbad\"\n",
        "print(a.lower())"
      ],
      "metadata": {
        "colab": {
          "base_uri": "https://localhost:8080/"
        },
        "id": "bCUm6v9zsmnE",
        "outputId": "79d3fe0b-c64e-4466-8826-f49a65fc4218"
      },
      "execution_count": null,
      "outputs": [
        {
          "output_type": "stream",
          "name": "stdout",
          "text": [
            "hyderabad\n"
          ]
        }
      ]
    },
    {
      "cell_type": "code",
      "source": [
        "#write a program to print multiples of 2 in the given list?\n",
        "#list = [1,2,3,4,5,6,7,8,9,10]  #--->[2,4,6,8,10,12,14,16,18,20]\n",
        "list = [1,2,3,4,5,6,7,8,9,10]\n",
        "print(list * 2)"
      ],
      "metadata": {
        "colab": {
          "base_uri": "https://localhost:8080/"
        },
        "id": "ON9A2OH3tAfB",
        "outputId": "52ee3a94-753e-49ec-fa28-ccb62c4f65ea"
      },
      "execution_count": null,
      "outputs": [
        {
          "output_type": "stream",
          "name": "stdout",
          "text": [
            "[1, 2, 3, 4, 5, 6, 7, 8, 9, 10, 1, 2, 3, 4, 5, 6, 7, 8, 9, 10]\n"
          ]
        }
      ]
    },
    {
      "cell_type": "markdown",
      "source": [
        "**for loop**"
      ],
      "metadata": {
        "id": "gwix908yt0iU"
      }
    },
    {
      "cell_type": "code",
      "source": [
        "#it runs a set of instruction overa collections(list, tuple, set, dictionary)\n",
        "list = [1,2,3,4,5,6,7,8,9,10]\n",
        "new_list = []\n",
        "for i in list:\n",
        "  print(i *2)"
      ],
      "metadata": {
        "colab": {
          "base_uri": "https://localhost:8080/"
        },
        "id": "Ph-9klnSunXs",
        "outputId": "5be5b88d-449f-4a11-fbae-90f0617b9ee0"
      },
      "execution_count": null,
      "outputs": [
        {
          "output_type": "stream",
          "name": "stdout",
          "text": [
            "2\n",
            "4\n",
            "6\n",
            "8\n",
            "10\n",
            "12\n",
            "14\n",
            "16\n",
            "18\n",
            "20\n"
          ]
        }
      ]
    },
    {
      "cell_type": "code",
      "source": [
        "#print \"hello world\" in separate line?\n",
        "x = \"hello wordl\"\n",
        "for i in x:\n",
        "  print(i)"
      ],
      "metadata": {
        "id": "AWeubYaKv1e8"
      },
      "execution_count": null,
      "outputs": []
    },
    {
      "cell_type": "code",
      "source": [
        "#break & continue\n",
        "#breaks :- stops the loops irrespective of entire.\n",
        "#continue :- skip the current iteration\n",
        "number = [1,2,3,4,5,6]\n",
        "for i in number:\n",
        "  if i < 3:\n",
        "    break\n",
        "  print(i)"
      ],
      "metadata": {
        "id": "4jNvfnybv2cP"
      },
      "execution_count": null,
      "outputs": []
    },
    {
      "cell_type": "code",
      "source": [
        "number = [1,2,3,4,5,6]\n",
        "for i in number:\n",
        "  if i > 3:\n",
        "    continue\n",
        "  print(i)"
      ],
      "metadata": {
        "colab": {
          "base_uri": "https://localhost:8080/"
        },
        "id": "9bzUfzz5v2Y7",
        "outputId": "ab4e25ae-a0e3-4168-bb02-13d1bf2de53b"
      },
      "execution_count": null,
      "outputs": [
        {
          "output_type": "stream",
          "name": "stdout",
          "text": [
            "1\n",
            "2\n",
            "3\n"
          ]
        }
      ]
    },
    {
      "cell_type": "code",
      "source": [
        "#a =[10,20,30,40,50,60,70,80,90]\n",
        "#skip 20,40,70\n",
        "#o/p--: 10 30 50 60 80 90\n",
        "a =[10,20,30,40,50,60,70,80,90]\n",
        "for i in a:\n",
        "  if i == 20 or i == 40 or i == 70:\n",
        "    continue\n",
        "  print(i)\n"
      ],
      "metadata": {
        "colab": {
          "base_uri": "https://localhost:8080/"
        },
        "id": "HbLjlJW1v2XT",
        "outputId": "dfe9e50e-5a9b-49d8-ee44-1db9541c8d51"
      },
      "execution_count": null,
      "outputs": [
        {
          "output_type": "stream",
          "name": "stdout",
          "text": [
            "10\n",
            "30\n",
            "50\n",
            "60\n",
            "80\n",
            "90\n"
          ]
        }
      ]
    },
    {
      "cell_type": "code",
      "source": [
        "#using range function in a loop\n",
        "#range(start)\n",
        "#print number from 1 to 10?\n",
        "#note: range function is used only in foor loop.\n",
        "for i in range(11):\n",
        "  print(i)\n",
        "\n",
        "#use input() and print range of number as per user input?\n"
      ],
      "metadata": {
        "colab": {
          "base_uri": "https://localhost:8080/"
        },
        "id": "7LXtNtyvv2Ub",
        "outputId": "4a1faea9-3486-4f4d-99d4-85151efcc47d"
      },
      "execution_count": null,
      "outputs": [
        {
          "output_type": "stream",
          "name": "stdout",
          "text": [
            "0\n",
            "1\n",
            "2\n",
            "3\n",
            "4\n",
            "5\n",
            "6\n",
            "7\n",
            "8\n",
            "9\n",
            "10\n"
          ]
        }
      ]
    },
    {
      "cell_type": "code",
      "source": [
        "#if i want the number start from 2 and till user given input\n",
        "#range(start,end)\n",
        "a = int(input())\n",
        "for i in range(2,a+1):\n",
        "  print(i)"
      ],
      "metadata": {
        "colab": {
          "base_uri": "https://localhost:8080/"
        },
        "id": "CSlODRAYv2SX",
        "outputId": "51329be2-2ef2-4a29-d63e-f0a8a50be9b1"
      },
      "execution_count": null,
      "outputs": [
        {
          "output_type": "stream",
          "name": "stdout",
          "text": [
            "9\n",
            "2\n",
            "3\n",
            "4\n",
            "5\n",
            "6\n",
            "7\n",
            "8\n",
            "9\n"
          ]
        }
      ]
    },
    {
      "cell_type": "code",
      "source": [
        "#i want to print range of 100 number but i want print all the even number upto 100\n",
        "#range(start,end,step)\n",
        "for i in range(0,101,2):\n",
        "  print(i)\n"
      ],
      "metadata": {
        "id": "6a-6n09Vv2P2"
      },
      "execution_count": null,
      "outputs": []
    },
    {
      "cell_type": "code",
      "source": [
        "a = int(input())\n",
        "for i in range(0,a,3):\n",
        "  print(i)"
      ],
      "metadata": {
        "colab": {
          "base_uri": "https://localhost:8080/"
        },
        "id": "OQl6dm8Ev2Na",
        "outputId": "9045a558-bac7-4240-f924-43d366c08f17"
      },
      "execution_count": null,
      "outputs": [
        {
          "output_type": "stream",
          "name": "stdout",
          "text": [
            "20\n",
            "0\n",
            "3\n",
            "6\n",
            "9\n",
            "12\n",
            "15\n",
            "18\n"
          ]
        }
      ]
    },
    {
      "cell_type": "code",
      "source": [
        "#write the program to print range odd number from user inuput()?\n",
        "a = int(input())\n",
        "for i in range(a):\n",
        "  if i % 2 != 0:\n",
        "    print(i)\n"
      ],
      "metadata": {
        "colab": {
          "base_uri": "https://localhost:8080/"
        },
        "id": "nqyn2fOhv2LT",
        "outputId": "5feaefd9-23c8-4040-b8b0-f2350c61aaef"
      },
      "execution_count": null,
      "outputs": [
        {
          "output_type": "stream",
          "name": "stdout",
          "text": [
            "9\n",
            "1\n",
            "3\n",
            "5\n",
            "7\n"
          ]
        }
      ]
    },
    {
      "cell_type": "markdown",
      "source": [
        "#collections"
      ],
      "metadata": {
        "id": "V8Ig_K7JRe-M"
      }
    },
    {
      "cell_type": "code",
      "source": [
        "#1.List\n",
        "#2.Tuple\n",
        "#3.Set\n",
        "#4.Dictionary"
      ],
      "metadata": {
        "id": "H1bJMqkNv2I4"
      },
      "execution_count": null,
      "outputs": []
    },
    {
      "cell_type": "code",
      "source": [
        "#what is a list?\n",
        "#List:-created with []\n",
        "#--ordered, allows duplicates, mutable(chnagable)\n",
        "l1 = ['apple',\"banana\",'mango','strawberry','Blueberry']\n",
        "print(l1)\n",
        "print(type(l1))"
      ],
      "metadata": {
        "id": "Qezm26vZv2Gm",
        "colab": {
          "base_uri": "https://localhost:8080/"
        },
        "outputId": "1fbd8292-b1c9-4864-a103-ae633a1afd4e"
      },
      "execution_count": null,
      "outputs": [
        {
          "output_type": "stream",
          "name": "stdout",
          "text": [
            "['apple', 'banana', 'mango', 'strawberry', 'Blueberry']\n",
            "<class 'list'>\n"
          ]
        }
      ]
    },
    {
      "cell_type": "code",
      "source": [
        "#what can be stired in list?\n",
        "l2 = ['true','false','true','false']\n",
        "print(l2)\n",
        "l3 = [1,2,3,4,5,6,7,8]\n",
        "print(l3)"
      ],
      "metadata": {
        "id": "lS7mELpPR8lR",
        "colab": {
          "base_uri": "https://localhost:8080/"
        },
        "outputId": "7c3a005f-8321-4bfc-b14c-322a3f85d546"
      },
      "execution_count": 1,
      "outputs": [
        {
          "output_type": "stream",
          "name": "stdout",
          "text": [
            "['true', 'false', 'true', 'false']\n",
            "[1, 2, 3, 4, 5, 6, 7, 8]\n"
          ]
        }
      ]
    },
    {
      "cell_type": "code",
      "source": [
        "#print l1,l23,l3 in single line\n",
        " print(type(l1),type(l2),type(l3),sep )"
      ],
      "metadata": {
        "id": "s6PVRSOsR8h9",
        "colab": {
          "base_uri": "https://localhost:8080/",
          "height": 106
        },
        "outputId": "a568fd04-bc48-4ee5-e80d-4c4b3d82e799"
      },
      "execution_count": 5,
      "outputs": [
        {
          "output_type": "error",
          "ename": "IndentationError",
          "evalue": "unexpected indent (<ipython-input-5-4b510b647264>, line 2)",
          "traceback": [
            "\u001b[0;36m  File \u001b[0;32m\"<ipython-input-5-4b510b647264>\"\u001b[0;36m, line \u001b[0;32m2\u001b[0m\n\u001b[0;31m    print(type(l1),type(l2),type(l3),sep =n)\u001b[0m\n\u001b[0m    ^\u001b[0m\n\u001b[0;31mIndentationError\u001b[0m\u001b[0;31m:\u001b[0m unexpected indent\n"
          ]
        }
      ]
    },
    {
      "cell_type": "code",
      "source": [
        "#how can you say collection is mutable?\n",
        "1. swapping\n",
        "2. Adding -->\n",
        "3. Removing"
      ],
      "metadata": {
        "id": "t6K-Z2LLR8fS"
      },
      "execution_count": null,
      "outputs": []
    },
    {
      "cell_type": "code",
      "source": [
        "#swapping\n",
        "l1 = ['apple ','banana','mango','blueberry','apples',]\n",
        "l1[0]='orange'\n",
        "print (l1)"
      ],
      "metadata": {
        "colab": {
          "base_uri": "https://localhost:8080/"
        },
        "id": "oXVy5jeTTcXe",
        "outputId": "064ec072-b2fe-4f98-aec2-92b149f24baa"
      },
      "execution_count": 8,
      "outputs": [
        {
          "output_type": "stream",
          "name": "stdout",
          "text": [
            "['orange', 'banana', 'mango', 'blueberry', 'apples']\n"
          ]
        }
      ]
    },
    {
      "cell_type": "code",
      "source": [
        "#Append : ading extra element/data at end of the list\n",
        "l1 = ['apple','mango','orange','banana','grapes']\n",
        "l1.apped('kiwi')\n",
        "print(l1)"
      ],
      "metadata": {
        "id": "Q4RI_x85R8cx",
        "colab": {
          "base_uri": "https://localhost:8080/",
          "height": 193
        },
        "outputId": "9b9e93da-f64f-4fa2-e97b-e8a75c6822cf"
      },
      "execution_count": 13,
      "outputs": [
        {
          "output_type": "error",
          "ename": "AttributeError",
          "evalue": "'list' object has no attribute 'apped'",
          "traceback": [
            "\u001b[0;31m---------------------------------------------------------------------------\u001b[0m",
            "\u001b[0;31mAttributeError\u001b[0m                            Traceback (most recent call last)",
            "\u001b[0;32m<ipython-input-13-297fe50bf7bc>\u001b[0m in \u001b[0;36m<cell line: 3>\u001b[0;34m()\u001b[0m\n\u001b[1;32m      1\u001b[0m \u001b[0;31m#Append : ading extra element/data at end of the list\u001b[0m\u001b[0;34m\u001b[0m\u001b[0;34m\u001b[0m\u001b[0m\n\u001b[1;32m      2\u001b[0m \u001b[0ml1\u001b[0m \u001b[0;34m=\u001b[0m \u001b[0;34m[\u001b[0m\u001b[0;34m'apple'\u001b[0m\u001b[0;34m,\u001b[0m\u001b[0;34m'mango'\u001b[0m\u001b[0;34m,\u001b[0m\u001b[0;34m'orange'\u001b[0m\u001b[0;34m,\u001b[0m\u001b[0;34m'banana'\u001b[0m\u001b[0;34m,\u001b[0m\u001b[0;34m'grapes'\u001b[0m\u001b[0;34m]\u001b[0m\u001b[0;34m\u001b[0m\u001b[0;34m\u001b[0m\u001b[0m\n\u001b[0;32m----> 3\u001b[0;31m \u001b[0ml1\u001b[0m\u001b[0;34m.\u001b[0m\u001b[0mapped\u001b[0m\u001b[0;34m(\u001b[0m\u001b[0;34m'kiwi'\u001b[0m\u001b[0;34m)\u001b[0m\u001b[0;34m\u001b[0m\u001b[0;34m\u001b[0m\u001b[0m\n\u001b[0m\u001b[1;32m      4\u001b[0m \u001b[0mprint\u001b[0m\u001b[0;34m(\u001b[0m\u001b[0ml1\u001b[0m\u001b[0;34m)\u001b[0m\u001b[0;34m\u001b[0m\u001b[0;34m\u001b[0m\u001b[0m\n",
            "\u001b[0;31mAttributeError\u001b[0m: 'list' object has no attribute 'apped'"
          ]
        }
      ]
    },
    {
      "cell_type": "code",
      "source": [],
      "metadata": {
        "id": "jW_95FHdR8ai"
      },
      "execution_count": null,
      "outputs": []
    },
    {
      "cell_type": "code",
      "source": [
        "#Removing of elements in list?\n",
        "l1 = ['apple','banana','mango','grapes','jackfruit']\n",
        "l1.remove('grapes')\n",
        "print(l1)\n",
        "\n",
        "\n"
      ],
      "metadata": {
        "id": "KSfuWh_wR8YE",
        "colab": {
          "base_uri": "https://localhost:8080/"
        },
        "outputId": "d8f86343-89f1-4c26-d345-63689c47c4be"
      },
      "execution_count": 15,
      "outputs": [
        {
          "output_type": "stream",
          "name": "stdout",
          "text": [
            "['apple', 'banana', 'mango', 'jackfruit']\n"
          ]
        }
      ]
    },
    {
      "cell_type": "code",
      "source": [],
      "metadata": {
        "id": "JH_ZuazuR8Vv"
      },
      "execution_count": null,
      "outputs": []
    },
    {
      "cell_type": "code",
      "source": [
        "##TUpple-->()\n",
        "## ordered,immutable,allow duplicates\n",
        "t1=('apple','banana','mango','grapes')\n",
        "print(t1)\n",
        "print(type(t1))"
      ],
      "metadata": {
        "id": "dmjDKFDeR8TW",
        "colab": {
          "base_uri": "https://localhost:8080/"
        },
        "outputId": "819d1ca3-6afd-4c92-c922-2488b54d0cb2"
      },
      "execution_count": 17,
      "outputs": [
        {
          "output_type": "stream",
          "name": "stdout",
          "text": [
            "('apple', 'banana', 'mango', 'grapes')\n",
            "<class 'tuple'>\n"
          ]
        }
      ]
    },
    {
      "cell_type": "code",
      "source": [
        "#tuple are ordered\n",
        "t1=('hex','pls','edda','vibe','xen','Ada')\n",
        "print(t1[2])\n",
        "print(t1[1:5])"
      ],
      "metadata": {
        "id": "--5miFvpR8Qz",
        "colab": {
          "base_uri": "https://localhost:8080/"
        },
        "outputId": "67818e0f-55f4-4c6e-e2c1-51c2ea5d22a1"
      },
      "execution_count": 21,
      "outputs": [
        {
          "output_type": "stream",
          "name": "stdout",
          "text": [
            "edda\n",
            "('pls', 'edda', 'vibe', 'xen')\n"
          ]
        }
      ]
    },
    {
      "cell_type": "code",
      "source": [
        " ##SET -->\n",
        " ##unorder,ed,immutable,it wont allow duplicates\n",
        " s1 = {'apple','banana','mango','grapes','kiwi','banana'}\n",
        " print(s1)\n",
        " print(type(s1))"
      ],
      "metadata": {
        "id": "Ysah2R4GR8Oh",
        "colab": {
          "base_uri": "https://localhost:8080/"
        },
        "outputId": "d631b0e8-9fa5-4993-9541-d4f2be5d03a5"
      },
      "execution_count": 28,
      "outputs": [
        {
          "output_type": "stream",
          "name": "stdout",
          "text": [
            "{'mango', 'grapes', 'kiwi', 'apple', 'banana'}\n",
            "<class 'set'>\n"
          ]
        }
      ]
    },
    {
      "cell_type": "code",
      "source": [
        "#main reason we use sets?\n",
        "s1={'a','b','c','d'}\n",
        "s2={'d','e','f','g'}\n",
        "s8=s1.intersection(s2)\n",
        "print(s8)"
      ],
      "metadata": {
        "id": "P02qfBuZR8MG",
        "colab": {
          "base_uri": "https://localhost:8080/"
        },
        "outputId": "5299e2f3-9a2e-4c2a-f197-0b1a2a854f52"
      },
      "execution_count": 33,
      "outputs": [
        {
          "output_type": "stream",
          "name": "stdout",
          "text": [
            "{'d'}\n"
          ]
        }
      ]
    },
    {
      "cell_type": "code",
      "source": [
        "s4=s1.union(s2)\n",
        "print(s4)"
      ],
      "metadata": {
        "id": "PlEj_oH6R8Jr",
        "colab": {
          "base_uri": "https://localhost:8080/"
        },
        "outputId": "25dcbbeb-584c-4f6c-bb5d-fd2238cd7596"
      },
      "execution_count": 34,
      "outputs": [
        {
          "output_type": "stream",
          "name": "stdout",
          "text": [
            "{'d', 'c', 'b', 'f', 'a', 'g', 'e'}\n"
          ]
        }
      ]
    },
    {
      "cell_type": "markdown",
      "source": [
        "Dictionary"
      ],
      "metadata": {
        "id": "874PDcJ-cKys"
      }
    },
    {
      "cell_type": "code",
      "source": [
        "# where we can store items in dictionary?\n",
        "# key::value pairs\n",
        "#dictionary-> {}\n",
        "#1 unordered,it won't allow duplicates,mutable"
      ],
      "metadata": {
        "id": "MmSXLpKpR8HX"
      },
      "execution_count": null,
      "outputs": []
    },
    {
      "cell_type": "code",
      "source": [
        "d1 = {\n",
        "      \"name\" : \"python\",\n",
        "      \"last-name\":\"programming\",\n",
        "      \"age\": 23,\n",
        "      \"module\":True\n",
        "  }\n",
        "print(d1)\n",
        "print(type(d1))\n"
      ],
      "metadata": {
        "id": "pPHq03ECR8C1",
        "colab": {
          "base_uri": "https://localhost:8080/"
        },
        "outputId": "d956bb20-fe8d-4b34-dc6d-a95d4dbbc89a"
      },
      "execution_count": 11,
      "outputs": [
        {
          "output_type": "stream",
          "name": "stdout",
          "text": [
            "{'name': 'python', 'last-name': 'programming', 'age': 23, 'module': True}\n",
            "<class 'dict'>\n"
          ]
        }
      ]
    },
    {
      "cell_type": "code",
      "source": [
        "#how can we remove in dictionary ?\n",
        "##pop(key)\n",
        "d1.pop('module')\n",
        "print(d1)"
      ],
      "metadata": {
        "colab": {
          "base_uri": "https://localhost:8080/"
        },
        "id": "j8Ht5IYAjkbB",
        "outputId": "fd9de329-90d7-4b8b-fadd-695946c72cc7"
      },
      "execution_count": 14,
      "outputs": [
        {
          "output_type": "stream",
          "name": "stdout",
          "text": [
            "{'name': 'python', 'last-name': 'programming', 'age': 23}\n"
          ]
        }
      ]
    },
    {
      "cell_type": "code",
      "source": [
        "##working with loops in the dictionary?\n",
        "d3={'name':['python','c','java']\n",
        "    'last-name':'programming ',\n",
        "     'age':'23',\n",
        "      'module':'true'\n",
        "      }\n",
        "\n"
      ],
      "metadata": {
        "colab": {
          "base_uri": "https://localhost:8080/",
          "height": 106
        },
        "id": "0GSrQUlLjkGe",
        "outputId": "13a6bcc3-fdea-4bdf-c979-8cdc71b9cd89"
      },
      "execution_count": 15,
      "outputs": [
        {
          "output_type": "error",
          "ename": "SyntaxError",
          "evalue": "invalid syntax. Perhaps you forgot a comma? (<ipython-input-15-891e2ea59053>, line 2)",
          "traceback": [
            "\u001b[0;36m  File \u001b[0;32m\"<ipython-input-15-891e2ea59053>\"\u001b[0;36m, line \u001b[0;32m2\u001b[0m\n\u001b[0;31m    d3={'name':['python','c','java']\u001b[0m\n\u001b[0m               ^\u001b[0m\n\u001b[0;31mSyntaxError\u001b[0m\u001b[0;31m:\u001b[0m invalid syntax. Perhaps you forgot a comma?\n"
          ]
        }
      ]
    },
    {
      "cell_type": "code",
      "source": [
        "#Escape characters are used to print illegle characters.\n",
        "print('hex\\\"founder\\\"Richard')\n"
      ],
      "metadata": {
        "colab": {
          "base_uri": "https://localhost:8080/"
        },
        "id": "0nJrD5xisL5W",
        "outputId": "d92c117d-7df3-4667-8536-df3ae5aa752a"
      },
      "execution_count": 18,
      "outputs": [
        {
          "output_type": "stream",
          "name": "stdout",
          "text": [
            "hex\"founder\"Richard\n"
          ]
        }
      ]
    },
    {
      "cell_type": "code",
      "source": [
        "#write a program to print multiples of 2 in the given list?\n",
        "list = [1,2,3,4,5,6,7,8,9,10]\n",
        "new_list = []\n",
        "for i in list:\n",
        "  new_list.append(i * 2)\n",
        "  print(new_list)"
      ],
      "metadata": {
        "colab": {
          "base_uri": "https://localhost:8080/"
        },
        "id": "H8Yi8yq-t5Z2",
        "outputId": "26b8f590-891a-4447-c8c4-7a9c3db66335"
      },
      "execution_count": null,
      "outputs": [
        {
          "output_type": "stream",
          "name": "stdout",
          "text": [
            "[2]\n",
            "[2, 4]\n",
            "[2, 4, 6]\n",
            "[2, 4, 6, 8]\n",
            "[2, 4, 6, 8, 10]\n",
            "[2, 4, 6, 8, 10, 12]\n",
            "[2, 4, 6, 8, 10, 12, 14]\n",
            "[2, 4, 6, 8, 10, 12, 14, 16]\n",
            "[2, 4, 6, 8, 10, 12, 14, 16, 18]\n",
            "[2, 4, 6, 8, 10, 12, 14, 16, 18, 20]\n"
          ]
        }
      ]
    }
  ]
}