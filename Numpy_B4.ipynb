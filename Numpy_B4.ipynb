{
  "nbformat": 4,
  "nbformat_minor": 0,
  "metadata": {
    "colab": {
      "provenance": [],
      "authorship_tag": "ABX9TyPC0s2SH9+pXPYklk8V2QVI",
      "include_colab_link": true
    },
    "kernelspec": {
      "name": "python3",
      "display_name": "Python 3"
    },
    "language_info": {
      "name": "python"
    }
  },
  "cells": [
    {
      "cell_type": "markdown",
      "metadata": {
        "id": "view-in-github",
        "colab_type": "text"
      },
      "source": [
        "<a href=\"https://colab.research.google.com/github/chandrasekhaar/chandrasekhaar/blob/main/Numpy_B4.ipynb\" target=\"_parent\"><img src=\"https://colab.research.google.com/assets/colab-badge.svg\" alt=\"Open In Colab\"/></a>"
      ]
    },
    {
      "cell_type": "code",
      "execution_count": null,
      "metadata": {
        "id": "K6wheohgT4H6"
      },
      "outputs": [],
      "source": [
        "#what is numpy?\n"
      ]
    },
    {
      "cell_type": "markdown",
      "source": [
        "#how many types of arrays are their?\n",
        "#1d\n",
        "#2d\n",
        "#3d"
      ],
      "metadata": {
        "id": "rM8NvMeXUeKB"
      }
    },
    {
      "cell_type": "code",
      "source": [
        "#scikit learn\n",
        "#matpltolib\n",
        "#pandas\n",
        "\n",
        "#what are different types of usecases and operations achieved easily by numpy\n",
        "   1) dot product/inner product\n",
        "   2) matrix multiplication\n",
        "   3) inverse\n",
        "   4) linear algebra\n",
        "   5) random number generation\n",
        "   6) statistics"
      ],
      "metadata": {
        "id": "5LuDVuUzUpTy"
      },
      "execution_count": null,
      "outputs": []
    },
    {
      "cell_type": "code",
      "source": [
        "#installation\n",
        "!pip install numpy"
      ],
      "metadata": {
        "colab": {
          "base_uri": "https://localhost:8080/"
        },
        "id": "a25hUKyrV_nY",
        "outputId": "f9a1192a-3d98-4742-ebda-4f6451403a03"
      },
      "execution_count": 1,
      "outputs": [
        {
          "output_type": "stream",
          "name": "stdout",
          "text": [
            "Requirement already satisfied: numpy in /usr/local/lib/python3.10/dist-packages (1.25.2)\n"
          ]
        }
      ]
    },
    {
      "cell_type": "code",
      "source": [
        "import numpy as np\n",
        "np.__version__"
      ],
      "metadata": {
        "colab": {
          "base_uri": "https://localhost:8080/",
          "height": 35
        },
        "id": "Ax2O4xqVWU0w",
        "outputId": "59c02ea9-52cb-48a3-b0aa-ecf08a455589"
      },
      "execution_count": 3,
      "outputs": [
        {
          "output_type": "execute_result",
          "data": {
            "text/plain": [
              "'1.25.2'"
            ],
            "application/vnd.google.colaboratory.intrinsic+json": {
              "type": "string"
            }
          },
          "metadata": {},
          "execution_count": 3
        }
      ]
    },
    {
      "cell_type": "code",
      "source": [
        "#difference b/w array&list?\n",
        "\"\"\"array:- array can take homogenous data types\n",
        "            array's faster than list\n",
        "            array,s having fixed memory\"\"\"\n"
      ],
      "metadata": {
        "id": "9AZjX2vjYmUq"
      },
      "execution_count": null,
      "outputs": []
    },
    {
      "cell_type": "markdown",
      "source": [
        "central object is array"
      ],
      "metadata": {
        "id": "InOkQ55caKKt"
      }
    },
    {
      "cell_type": "code",
      "source": [
        "from re import A\n",
        "a=np.array([1,2,3,4])\n",
        "print(a)\n",
        "#want to know shape of the array\n",
        "a.shape\n",
        "#want to know the datatype of the array\n",
        "a.dtype\n",
        "#want to know dimension of array\n",
        "a.ndim\n",
        "#want to know size/number of elements in array\n",
        "a.size\n",
        "#want to know size in bytes of each element\n",
        "A"
      ],
      "metadata": {
        "colab": {
          "base_uri": "https://localhost:8080/"
        },
        "id": "RbGyOLahaI8Z",
        "outputId": "ef4a1979-0cd8-4c48-d5c9-37b504d518ee"
      },
      "execution_count": 4,
      "outputs": [
        {
          "output_type": "stream",
          "name": "stdout",
          "text": [
            "[1 2 3 4]\n"
          ]
        }
      ]
    }
  ]
}