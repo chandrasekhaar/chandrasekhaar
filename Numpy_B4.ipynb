{
  "nbformat": 4,
  "nbformat_minor": 0,
  "metadata": {
    "colab": {
      "provenance": [],
      "authorship_tag": "ABX9TyPQJuIdSa5oLeJ8CnebhPCv",
      "include_colab_link": true
    },
    "kernelspec": {
      "name": "python3",
      "display_name": "Python 3"
    },
    "language_info": {
      "name": "python"
    }
  },
  "cells": [
    {
      "cell_type": "markdown",
      "metadata": {
        "id": "view-in-github",
        "colab_type": "text"
      },
      "source": [
        "<a href=\"https://colab.research.google.com/github/chandrasekhaar/chandrasekhaar/blob/main/Numpy_B4.ipynb\" target=\"_parent\"><img src=\"https://colab.research.google.com/assets/colab-badge.svg\" alt=\"Open In Colab\"/></a>"
      ]
    },
    {
      "cell_type": "code",
      "execution_count": null,
      "metadata": {
        "id": "K6wheohgT4H6"
      },
      "outputs": [],
      "source": [
        "#what is numpy?\n"
      ]
    },
    {
      "cell_type": "markdown",
      "source": [
        "#how many types of arrays are their?\n",
        "#1d\n",
        "#2d\n",
        "#3d"
      ],
      "metadata": {
        "id": "rM8NvMeXUeKB"
      }
    },
    {
      "cell_type": "code",
      "source": [
        "#scikit learn\n",
        "#matpltolib\n",
        "#pandas\n",
        "\n",
        "#what are different types of usecases and operations achieved easily by numpy\n",
        "   1) dot product/inner product\n",
        "   2) matrix multiplication\n",
        "   3) inverse\n",
        "   4) linear algebra\n",
        "   5) random number generation\n",
        "   6) statistics"
      ],
      "metadata": {
        "id": "5LuDVuUzUpTy"
      },
      "execution_count": null,
      "outputs": []
    },
    {
      "cell_type": "code",
      "source": [
        "#installation\n",
        "!pip install numpy"
      ],
      "metadata": {
        "colab": {
          "base_uri": "https://localhost:8080/"
        },
        "id": "a25hUKyrV_nY",
        "outputId": "f9a1192a-3d98-4742-ebda-4f6451403a03"
      },
      "execution_count": null,
      "outputs": [
        {
          "output_type": "stream",
          "name": "stdout",
          "text": [
            "Requirement already satisfied: numpy in /usr/local/lib/python3.10/dist-packages (1.25.2)\n"
          ]
        }
      ]
    },
    {
      "cell_type": "code",
      "source": [
        "import numpy as np\n",
        "np.__version__"
      ],
      "metadata": {
        "colab": {
          "base_uri": "https://localhost:8080/",
          "height": 35
        },
        "id": "Ax2O4xqVWU0w",
        "outputId": "59c02ea9-52cb-48a3-b0aa-ecf08a455589"
      },
      "execution_count": null,
      "outputs": [
        {
          "output_type": "execute_result",
          "data": {
            "text/plain": [
              "'1.25.2'"
            ],
            "application/vnd.google.colaboratory.intrinsic+json": {
              "type": "string"
            }
          },
          "metadata": {},
          "execution_count": 3
        }
      ]
    },
    {
      "cell_type": "code",
      "source": [
        "#difference b/w array&list?\n",
        "\"\"\"array:- array can take homogenous data types\n",
        "            array's faster than list\n",
        "            array,s having fixed memory\"\"\"\n"
      ],
      "metadata": {
        "id": "9AZjX2vjYmUq"
      },
      "execution_count": null,
      "outputs": []
    },
    {
      "cell_type": "markdown",
      "source": [
        "central object is array"
      ],
      "metadata": {
        "id": "InOkQ55caKKt"
      }
    },
    {
      "cell_type": "code",
      "source": [
        "from re import A\n",
        "a=np.array([1,2,3,4])\n",
        "print(a)\n",
        "#want to know shape of the array\n",
        "a.shape\n",
        "#want to know the datatype of the array\n",
        "a.dtype\n",
        "#want to know dimension of array\n",
        "a.ndim\n",
        "#want to know size/number of elements in array\n",
        "a.size\n",
        "#want to know size in bytes of each element\n",
        "A"
      ],
      "metadata": {
        "colab": {
          "base_uri": "https://localhost:8080/"
        },
        "id": "RbGyOLahaI8Z",
        "outputId": "ef4a1979-0cd8-4c48-d5c9-37b504d518ee"
      },
      "execution_count": null,
      "outputs": [
        {
          "output_type": "stream",
          "name": "stdout",
          "text": [
            "[1 2 3 4]\n"
          ]
        }
      ]
    },
    {
      "cell_type": "code",
      "source": [
        "import numpy as np\n",
        "b=np.array([1,2,3,4])\n",
        "print(b[0])\n",
        "b[0]=6\n",
        "print(b)\n",
        "#element wise math operations\n",
        "c=np.array([1,2,3,4])\n",
        "print(b+c)\n",
        "print(b*c)\n",
        "#arthematic operations\n",
        "#sum of elements in an array\n",
        "print(b.sum())\n",
        "#minimum value in array\n",
        "print(b.min())\n",
        "#maximum value in array\n",
        "print(b.max())\n"
      ],
      "metadata": {
        "colab": {
          "base_uri": "https://localhost:8080/"
        },
        "id": "ZPZ0uJzYlaTL",
        "outputId": "0403869b-6c4b-4ec8-aab0-fdc5c6290ebd"
      },
      "execution_count": 12,
      "outputs": [
        {
          "output_type": "stream",
          "name": "stdout",
          "text": [
            "1\n",
            "[6 2 3 4]\n",
            "[7 4 6 8]\n",
            "[ 6  4  9 16]\n"
          ]
        }
      ]
    },
    {
      "cell_type": "markdown",
      "source": [
        "Array VS list\n"
      ],
      "metadata": {
        "id": "7nY2IB36pHjr"
      }
    },
    {
      "cell_type": "code",
      "source": [
        "l=[2,3,4]\n",
        "#create an array from list\n",
        "d=np.array(l)\n",
        "print(d)\n",
        "##  list we can add elements\n",
        "##  Array we cannot add elements\n",
        "#broad casting mehtod adding elements to the existing array?\n",
        "a1=d+np.array([5])\n",
        "print(a1)"
      ],
      "metadata": {
        "colab": {
          "base_uri": "https://localhost:8080/"
        },
        "id": "Up39URaypMyx",
        "outputId": "01b7dc7c-8ced-42bc-892c-2a97f038f4df"
      },
      "execution_count": 15,
      "outputs": [
        {
          "output_type": "stream",
          "name": "stdout",
          "text": [
            "[2 3 4]\n",
            "[7 8 9]\n"
          ]
        }
      ]
    },
    {
      "cell_type": "code",
      "source": [
        "#vector addition:-adding 2 arrays with same size/number of elements\n",
        "'''v1=np.array([1,2,3])\n",
        "v2=np.array([4,5,6])\n",
        "print(v1+v2)'''"
      ],
      "metadata": {
        "colab": {
          "base_uri": "https://localhost:8080/"
        },
        "id": "NQ4aHGfDspZ6",
        "outputId": "109a14a7-5472-4060-e5f2-bf8f3ba8f142"
      },
      "execution_count": 17,
      "outputs": [
        {
          "output_type": "stream",
          "name": "stdout",
          "text": [
            "[5 7 9]\n"
          ]
        }
      ]
    },
    {
      "cell_type": "markdown",
      "source": [],
      "metadata": {
        "id": "rq177Bw1vFcp"
      }
    },
    {
      "cell_type": "code",
      "source": [
        "l=[2,3,4]\n",
        "l1=[5,6,7]\n",
        "print(l+l1)"
      ],
      "metadata": {
        "colab": {
          "base_uri": "https://localhost:8080/"
        },
        "id": "sOvoQkvAvsGP",
        "outputId": "56270071-1908-44b7-f33a-a537d5db2b65"
      },
      "execution_count": 19,
      "outputs": [
        {
          "output_type": "stream",
          "name": "stdout",
          "text": [
            "[2, 3, 4, 5, 6, 7]\n"
          ]
        }
      ]
    },
    {
      "cell_type": "code",
      "source": [
        "#array multiplication\n",
        "a=np.array([1,2,3,4])\n",
        "a4=a*3\n",
        "print(a4)\n",
        "#find sqrt of numpy aray?\n",
        "print(np.sqrt(a))"
      ],
      "metadata": {
        "colab": {
          "base_uri": "https://localhost:8080/"
        },
        "id": "9rWwtL93xESW",
        "outputId": "193ad62e-3989-4ed4-f844-55cc425c95c2"
      },
      "execution_count": 23,
      "outputs": [
        {
          "output_type": "stream",
          "name": "stdout",
          "text": [
            "[ 3  6  9 12]\n",
            "[1.         1.41421356 1.73205081 2.        ]\n"
          ]
        }
      ]
    }
  ]
}